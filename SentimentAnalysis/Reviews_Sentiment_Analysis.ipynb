{
 "cells": [
  {
   "cell_type": "markdown",
   "metadata": {},
   "source": [
    "---   \n",
    " <img align=\"left\" width=\"65\" height=\"65\"  src=\"https://upload.wikimedia.org/wikipedia/en/c/c8/University_of_the_Punjab_logo.png\"> \n",
    "\n",
    "<h1 align=\"center\">Sentiment Analysis (Negative/Positive)</h1>\n",
    "<h1 align=\"center\">Movie Reviews (Binary Classification)</h1>\n",
    "\n",
    "---\n",
    "<h3><div align=\"right\">Presentor: Summan Bahadur</div></h3>\n",
    "<h3><div align=\"right\">Roll Number: MSDSF21M509</div></h3>    \n"
   ]
  },
  {
   "cell_type": "markdown",
   "metadata": {},
   "source": [
    "## What is Sentiment Analysis\n",
    "Sentiment analysis is a natural language processing technique that identifies the polarity of a given text. There are different flavors of sentiment analysis, but one of the most widely used techniques labels data into positive, negative and neutral.\n",
    "\n",
    "### Task : \n",
    "Perform Binary Classification on Movie Reviews \n",
    "https://www.rottentomatoes.com/m/captain_marvel/reviews?type=user"
   ]
  },
  {
   "cell_type": "markdown",
   "metadata": {},
   "source": [
    "<img align=\"right\" width=\"400\" src=\"images/sentimentanalysis.png\"  >\n",
    "\n",
    "## Agenda of this notebook\n",
    "1. **Corpus Generation**\n",
    "    - Loading annotated data\n",
    "    - Data Preprocessing\n",
    "    - Data Transformation\n",
    "2. **Feature Extraction**\n",
    "    - Unigram\n",
    "    - Bigram\n",
    "    - Trigram\n",
    "    - TF-IDF\n",
    "3. **Model Fitting**\n",
    "    - Naive Bayes\n",
    "    - SVM\n",
    "4. **Information Reterieval**\n",
    "    - Word Cloud\n",
    "    - Keyword Extraction"
   ]
  },
  {
   "cell_type": "code",
   "execution_count": 60,
   "metadata": {
    "id": "UA-jPWIqK59Q",
    "slideshow": {
     "slide_type": "slide"
    }
   },
   "outputs": [],
   "source": [
    "import pandas as pd\n",
    "import numpy as np\n",
    "\n",
    "from sklearn.model_selection import train_test_split\n",
    "from sklearn.feature_extraction.text import CountVectorizer\n",
    "from sklearn.feature_extraction.text import TfidfVectorizer\n",
    "from sklearn.naive_bayes import GaussianNB\n",
    "from sklearn.svm import SVC\n",
    "from sklearn.metrics import precision_recall_fscore_support\n",
    "#import spacy\n",
    "import gensim\n",
    "from gensim.models import Word2Vec\n",
    "from gensim.test.utils import datapath\n",
    "#preprocessing data\n",
    "import re\n",
    "import nltk\n",
    "\n",
    "from sklearn.metrics import confusion_matrix, accuracy_score"
   ]
  },
  {
   "cell_type": "markdown",
   "metadata": {
    "id": "jAkmz2o3Ps_f",
    "slideshow": {
     "slide_type": "slide"
    }
   },
   "source": [
    "### Load dataset\n",
    "\n",
    "\n"
   ]
  },
  {
   "cell_type": "code",
   "execution_count": 61,
   "metadata": {
    "id": "rEyDbEwbOWgp",
    "slideshow": {
     "slide_type": "slide"
    }
   },
   "outputs": [],
   "source": [
    "dataset = pd.read_excel(\"./reviews_annotated.xlsx\", sheet_name=\"reviews_annotated\")"
   ]
  },
  {
   "cell_type": "markdown",
   "metadata": {},
   "source": [
    "<img align=\"center\"   src=\"images/original_reviews.png\"  >"
   ]
  },
  {
   "cell_type": "code",
   "execution_count": 62,
   "metadata": {
    "colab": {
     "base_uri": "https://localhost:8080/"
    },
    "executionInfo": {
     "elapsed": 36,
     "status": "ok",
     "timestamp": 1654787988265,
     "user": {
      "displayName": "SKILLCATE",
      "userId": "11062674699417926870"
     },
     "user_tz": -330
    },
    "id": "5I60cmjOPxSY",
    "outputId": "724a861a-dd4c-492b-f542-9f7e1c351328",
    "slideshow": {
     "slide_type": "slide"
    }
   },
   "outputs": [
    {
     "name": "stdout",
     "output_type": "stream",
     "text": [
      "(196, 2)\n"
     ]
    },
    {
     "data": {
      "text/html": [
       "<div>\n",
       "<style scoped>\n",
       "    .dataframe tbody tr th:only-of-type {\n",
       "        vertical-align: middle;\n",
       "    }\n",
       "\n",
       "    .dataframe tbody tr th {\n",
       "        vertical-align: top;\n",
       "    }\n",
       "\n",
       "    .dataframe thead th {\n",
       "        text-align: right;\n",
       "    }\n",
       "</style>\n",
       "<table border=\"1\" class=\"dataframe\">\n",
       "  <thead>\n",
       "    <tr style=\"text-align: right;\">\n",
       "      <th></th>\n",
       "      <th>review</th>\n",
       "      <th>final_sentiment</th>\n",
       "    </tr>\n",
       "  </thead>\n",
       "  <tbody>\n",
       "    <tr>\n",
       "      <th>0</th>\n",
       "      <td>A totally awesome MCU entry, clever, hilarious, surprising, with some great origin stories of important characters and it makes you look at yourself and question your assumptions and default biases.  I donâ€™t understand the low scores, sounds like something besides the movie/plot is driving them. See this movie, itâ€™s incredible.</td>\n",
       "      <td>positive</td>\n",
       "    </tr>\n",
       "    <tr>\n",
       "      <th>1</th>\n",
       "      <td>Wooow this is a baaad movie. Worst lead character in the entire Marvel Universe!</td>\n",
       "      <td>negative</td>\n",
       "    </tr>\n",
       "    <tr>\n",
       "      <th>2</th>\n",
       "      <td>Unmemorable movie, there's a little of Top Gun, Green Lantern (that said it all) and worst of all a little of Marvel magic. The protagonist is mono-dimensional and we know how cool, good, fun she is by what other character say about her. She never acts cool, fun or anything else... a big shame!</td>\n",
       "      <td>negative</td>\n",
       "    </tr>\n",
       "    <tr>\n",
       "      <th>3</th>\n",
       "      <td>Aside from the most woodenactor in the world,  the cgi is laughable at times</td>\n",
       "      <td>negative</td>\n",
       "    </tr>\n",
       "    <tr>\n",
       "      <th>4</th>\n",
       "      <td>Brie Larson put too much of her own obtuse personality into the film</td>\n",
       "      <td>negative</td>\n",
       "    </tr>\n",
       "    <tr>\n",
       "      <th>5</th>\n",
       "      <td>Yes, I know the anti Cpt Marvel diatribe, but as an original Marvel Comics fan, i found it enjoyable.   A bit too much of today's commentary on society but, all in all, an enjoyable film.</td>\n",
       "      <td>positive</td>\n",
       "    </tr>\n",
       "    <tr>\n",
       "      <th>6</th>\n",
       "      <td>A movie just as good as the other origin stories for characters in the MCU, Brie delivers a good and solid Carol Denvers, with her military mannerisms and her background as a strong woman. I would particularly do it differently about the way she gain her powers, but it's ok, this is a universe where Bruce Banner shoots himself with gama radiation; the hole Kree nuclea very good, love Jude Law, love Gemma Chan. I don't like the way they led Nick Fury's core, I was expecting more of the serious Samuel L. Jackson from the first phase, but it's nothing that destroyed the movie.</td>\n",
       "      <td>positive</td>\n",
       "    </tr>\n",
       "    <tr>\n",
       "      <th>7</th>\n",
       "      <td>Wow I tried watching it expecting it to be rough but I didn't expect it to be THAT bad LOL</td>\n",
       "      <td>negative</td>\n",
       "    </tr>\n",
       "    <tr>\n",
       "      <th>8</th>\n",
       "      <td>The plot is weak. Not a huge fan of this movie. I really wanted to like it but Marvel flopped their first attempt. And that's okay! Please Marvel, give us a GOOD movie next time.</td>\n",
       "      <td>negative</td>\n",
       "    </tr>\n",
       "    <tr>\n",
       "      <th>9</th>\n",
       "      <td>Not the worst MCU movie but it wasn't anywhere close to being a fun, enjoyable Marvel movie. The plot moved slowly and it was predictable. Brie Larson's acting and the writing of her character ended up making a boring dislikable character with little to no character development. On the other hand, Samuel L Jackson as Nick Fury once again on screen carried the show as a side character; he made the movie somewhat better than it was. I hated one of the scenes with Nick Fury and a cat... not going to spoil the movie but come on they could have done a lot better. One of the reasons this movie didn't work is because it was trying to be too many things at once, and it couldn't stick the landing.</td>\n",
       "      <td>negative</td>\n",
       "    </tr>\n",
       "    <tr>\n",
       "      <th>10</th>\n",
       "      <td>Totally unlikable main character and some stupid story plot holes, not to mention making a joke of Nick Fury and his injury. Worst movie of them all so far.</td>\n",
       "      <td>negative</td>\n",
       "    </tr>\n",
       "    <tr>\n",
       "      <th>11</th>\n",
       "      <td>An utter bore, bereft of creativity or sincerity. The first true signal for Marvel's new direction: warring with fans by sacrificing genuine creativity and entertainment for political messaging and fan-blaming. Brie Larson is another nepotistic Hollywood child, only one with stiff, wooden acting and a massive sense of entitlement. It bleeds through her portrayal. The character is vapid and lifeless. The story is paper thin. The \"villain\" might be the worst in the MCU's notoriously lackluster line up. The movie is garbage, a waste of hundreds of millions of dollars to produce something worse than forgettable. People starve while movies like this are made? Wow, what a hero.</td>\n",
       "      <td>negative</td>\n",
       "    </tr>\n",
       "    <tr>\n",
       "      <th>12</th>\n",
       "      <td>I heard that this movie wasn't well-liked, but it is actually a very fun movie with a likable protagonist and everything. My whole family had a great time. I then found out that apparently, the movie was review-bombed by misogynists and the real polls showed that 80% of viewers enjoyed and recommended it, and it was reflected in a successful box office run. I wish I knew that sooner and didn't avoid it for so long.</td>\n",
       "      <td>positive</td>\n",
       "    </tr>\n",
       "    <tr>\n",
       "      <th>13</th>\n",
       "      <td>For all then noise, this is an average and somewhat stereotypical hero origin story, without much depth. Maybe one difference would be that the lead character is actually not expected to improve herself, but rather realize that she was perfect all along, which is a much less compelling narrative. If you need to waste time and don't have anything else to watch, this is something that can be seen to pass the time, but certainly would not recommend you choose to do so, especially if you have any other options.</td>\n",
       "      <td>negative</td>\n",
       "    </tr>\n",
       "    <tr>\n",
       "      <th>15</th>\n",
       "      <td>No good movie at all. There was absolutely no character development. It was interesting, to see something of the scrull and Kree but yeah, thats all good, i can say about it.</td>\n",
       "      <td>negative</td>\n",
       "    </tr>\n",
       "    <tr>\n",
       "      <th>16</th>\n",
       "      <td>Interesting and with good characters. Its fun to watch</td>\n",
       "      <td>positive</td>\n",
       "    </tr>\n",
       "    <tr>\n",
       "      <th>18</th>\n",
       "      <td>I enjoyed this movie. I thought it was funny, and the chemistry was strong. I've re-watched it several times, and I don't get the criticisms. The acting is fine. The chemistry between Larson and Jackson is great. The origin story, though typically scant on rational thought (but need I mention being bitten by a radioactive spider?) still unfolds nicely throughout the movie. And she shows much more than one facial expression. I'm pretty critical, and I don't get the criticism at all. Time well spent.</td>\n",
       "      <td>positive</td>\n",
       "    </tr>\n",
       "    <tr>\n",
       "      <th>19</th>\n",
       "      <td>Horrible film. I don't know which was worse: the horrible script, which thought it was clever and funny, or the horrible acting by the lead actress who had one facial expression throughout. I saw it once at the cinema, wanted to walk out about halfway through due to boredom and never intend to ever watch this piece of trash ever again.</td>\n",
       "      <td>negative</td>\n",
       "    </tr>\n",
       "    <tr>\n",
       "      <th>20</th>\n",
       "      <td>I watched it for its Visual Effects.</td>\n",
       "      <td>negative</td>\n",
       "    </tr>\n",
       "    <tr>\n",
       "      <th>21</th>\n",
       "      <td>The movie focuses more on the messaging rather than character development and fails at both.</td>\n",
       "      <td>negative</td>\n",
       "    </tr>\n",
       "    <tr>\n",
       "      <th>22</th>\n",
       "      <td>Probably the lamest MCU movie so far. That's what you get when the main character is so unlikable.</td>\n",
       "      <td>negative</td>\n",
       "    </tr>\n",
       "    <tr>\n",
       "      <th>23</th>\n",
       "      <td>Brilliant casting.  One of the best MCU films.</td>\n",
       "      <td>positive</td>\n",
       "    </tr>\n",
       "    <tr>\n",
       "      <th>24</th>\n",
       "      <td>Just not that great. passed time but thats about it. watch any other marvel stuff besides early hulk lol</td>\n",
       "      <td>negative</td>\n",
       "    </tr>\n",
       "    <tr>\n",
       "      <th>25</th>\n",
       "      <td>Loved it! Great storyline. Loved the characters.</td>\n",
       "      <td>positive</td>\n",
       "    </tr>\n",
       "    <tr>\n",
       "      <th>26</th>\n",
       "      <td>Good start to the Marvel franchise.</td>\n",
       "      <td>positive</td>\n",
       "    </tr>\n",
       "    <tr>\n",
       "      <th>27</th>\n",
       "      <td>Not a good story, did not have a real part in the Mcu storyline. Was just to make money instead of actually putting a good story and background to it. Could have been done a lot better.</td>\n",
       "      <td>negative</td>\n",
       "    </tr>\n",
       "    <tr>\n",
       "      <th>28</th>\n",
       "      <td>Brilliant film, start to finish</td>\n",
       "      <td>positive</td>\n",
       "    </tr>\n",
       "    <tr>\n",
       "      <th>29</th>\n",
       "      <td>This movie is actually really good. Sad to see people bomb it with negative reviews just because they don't like Brie Larson (who is an amazing actress) or simply because they don't like to see a woman with power on screen</td>\n",
       "      <td>positive</td>\n",
       "    </tr>\n",
       "    <tr>\n",
       "      <th>30</th>\n",
       "      <td>I thought it was a fun movie the Talos is cool and so is obviously Sam L Jackson the rest of the movie is like eh but still a great and fun time</td>\n",
       "      <td>positive</td>\n",
       "    </tr>\n",
       "    <tr>\n",
       "      <th>31</th>\n",
       "      <td>Probably one of the worst movies Marvel has made. Brie Larson's acting was horrible and the story went nowhere. Her origin story was the worst.</td>\n",
       "      <td>negative</td>\n",
       "    </tr>\n",
       "  </tbody>\n",
       "</table>\n",
       "</div>"
      ],
      "text/plain": [
       "                                                                                                                                                                                                                                                                                                                                                                                                                                                                                                                                                                                                                                                                                                                       review  \\\n",
       "0                                                                                                                                                                                                                                                                                                                                                                               A totally awesome MCU entry, clever, hilarious, surprising, with some great origin stories of important characters and it makes you look at yourself and question your assumptions and default biases.  I donâ€™t understand the low scores, sounds like something besides the movie/plot is driving them. See this movie, itâ€™s incredible.   \n",
       "1                                                                                                                                                                                                                                                                                                                                                                                                                                                                                                                                                                                                                                            Wooow this is a baaad movie. Worst lead character in the entire Marvel Universe!   \n",
       "2                                                                                                                                                                                                                                                                                                                                                                                                                     Unmemorable movie, there's a little of Top Gun, Green Lantern (that said it all) and worst of all a little of Marvel magic. The protagonist is mono-dimensional and we know how cool, good, fun she is by what other character say about her. She never acts cool, fun or anything else... a big shame!   \n",
       "3                                                                                                                                                                                                                                                                                                                                                                                                                                                                                                                                                                                                                                                Aside from the most woodenactor in the world,  the cgi is laughable at times   \n",
       "4                                                                                                                                                                                                                                                                                                                                                                                                                                                                                                                                                                                                                                                        Brie Larson put too much of her own obtuse personality into the film   \n",
       "5                                                                                                                                                                                                                                                                                                                                                                                                                                                                                                                                 Yes, I know the anti Cpt Marvel diatribe, but as an original Marvel Comics fan, i found it enjoyable.   A bit too much of today's commentary on society but, all in all, an enjoyable film.   \n",
       "6                                                                                                                        A movie just as good as the other origin stories for characters in the MCU, Brie delivers a good and solid Carol Denvers, with her military mannerisms and her background as a strong woman. I would particularly do it differently about the way she gain her powers, but it's ok, this is a universe where Bruce Banner shoots himself with gama radiation; the hole Kree nuclea very good, love Jude Law, love Gemma Chan. I don't like the way they led Nick Fury's core, I was expecting more of the serious Samuel L. Jackson from the first phase, but it's nothing that destroyed the movie.   \n",
       "7                                                                                                                                                                                                                                                                                                                                                                                                                                                                                                                                                                                                                                  Wow I tried watching it expecting it to be rough but I didn't expect it to be THAT bad LOL   \n",
       "8                                                                                                                                                                                                                                                                                                                                                                                                                                                                                                                                          The plot is weak. Not a huge fan of this movie. I really wanted to like it but Marvel flopped their first attempt. And that's okay! Please Marvel, give us a GOOD movie next time.   \n",
       "9   Not the worst MCU movie but it wasn't anywhere close to being a fun, enjoyable Marvel movie. The plot moved slowly and it was predictable. Brie Larson's acting and the writing of her character ended up making a boring dislikable character with little to no character development. On the other hand, Samuel L Jackson as Nick Fury once again on screen carried the show as a side character; he made the movie somewhat better than it was. I hated one of the scenes with Nick Fury and a cat... not going to spoil the movie but come on they could have done a lot better. One of the reasons this movie didn't work is because it was trying to be too many things at once, and it couldn't stick the landing.   \n",
       "10                                                                                                                                                                                                                                                                                                                                                                                                                                                                                                                                                               Totally unlikable main character and some stupid story plot holes, not to mention making a joke of Nick Fury and his injury. Worst movie of them all so far.   \n",
       "11                   An utter bore, bereft of creativity or sincerity. The first true signal for Marvel's new direction: warring with fans by sacrificing genuine creativity and entertainment for political messaging and fan-blaming. Brie Larson is another nepotistic Hollywood child, only one with stiff, wooden acting and a massive sense of entitlement. It bleeds through her portrayal. The character is vapid and lifeless. The story is paper thin. The \"villain\" might be the worst in the MCU's notoriously lackluster line up. The movie is garbage, a waste of hundreds of millions of dollars to produce something worse than forgettable. People starve while movies like this are made? Wow, what a hero.   \n",
       "12                                                                                                                                                                                                                                                                                         I heard that this movie wasn't well-liked, but it is actually a very fun movie with a likable protagonist and everything. My whole family had a great time. I then found out that apparently, the movie was review-bombed by misogynists and the real polls showed that 80% of viewers enjoyed and recommended it, and it was reflected in a successful box office run. I wish I knew that sooner and didn't avoid it for so long.   \n",
       "13                                                                                                                                                                                           For all then noise, this is an average and somewhat stereotypical hero origin story, without much depth. Maybe one difference would be that the lead character is actually not expected to improve herself, but rather realize that she was perfect all along, which is a much less compelling narrative. If you need to waste time and don't have anything else to watch, this is something that can be seen to pass the time, but certainly would not recommend you choose to do so, especially if you have any other options.   \n",
       "15                                                                                                                                                                                                                                                                                                                                                                                                                                                                                                                                             No good movie at all. There was absolutely no character development. It was interesting, to see something of the scrull and Kree but yeah, thats all good, i can say about it.   \n",
       "16                                                                                                                                                                                                                                                                                                                                                                                                                                                                                                                                                                                                                                                                     Interesting and with good characters. Its fun to watch   \n",
       "18                                                                                                                                                                                                    I enjoyed this movie. I thought it was funny, and the chemistry was strong. I've re-watched it several times, and I don't get the criticisms. The acting is fine. The chemistry between Larson and Jackson is great. The origin story, though typically scant on rational thought (but need I mention being bitten by a radioactive spider?) still unfolds nicely throughout the movie. And she shows much more than one facial expression. I'm pretty critical, and I don't get the criticism at all. Time well spent.   \n",
       "19                                                                                                                                                                                                                                                                                                                                                                          Horrible film. I don't know which was worse: the horrible script, which thought it was clever and funny, or the horrible acting by the lead actress who had one facial expression throughout. I saw it once at the cinema, wanted to walk out about halfway through due to boredom and never intend to ever watch this piece of trash ever again.   \n",
       "20                                                                                                                                                                                                                                                                                                                                                                                                                                                                                                                                                                                                                                                                                       I watched it for its Visual Effects.   \n",
       "21                                                                                                                                                                                                                                                                                                                                                                                                                                                                                                                                                                                                                               The movie focuses more on the messaging rather than character development and fails at both.   \n",
       "22                                                                                                                                                                                                                                                                                                                                                                                                                                                                                                                                                                                                                         Probably the lamest MCU movie so far. That's what you get when the main character is so unlikable.   \n",
       "23                                                                                                                                                                                                                                                                                                                                                                                                                                                                                                                                                                                                                                                                             Brilliant casting.  One of the best MCU films.   \n",
       "24                                                                                                                                                                                                                                                                                                                                                                                                                                                                                                                                                                                                                   Just not that great. passed time but thats about it. watch any other marvel stuff besides early hulk lol   \n",
       "25                                                                                                                                                                                                                                                                                                                                                                                                                                                                                                                                                                                                                                                                           Loved it! Great storyline. Loved the characters.   \n",
       "26                                                                                                                                                                                                                                                                                                                                                                                                                                                                                                                                                                                                                                                                                        Good start to the Marvel franchise.   \n",
       "27                                                                                                                                                                                                                                                                                                                                                                                                                                                                                                                                  Not a good story, did not have a real part in the Mcu storyline. Was just to make money instead of actually putting a good story and background to it. Could have been done a lot better.   \n",
       "28                                                                                                                                                                                                                                                                                                                                                                                                                                                                                                                                                                                                                                                                                            Brilliant film, start to finish   \n",
       "29                                                                                                                                                                                                                                                                                                                                                                                                                                                                                             This movie is actually really good. Sad to see people bomb it with negative reviews just because they don't like Brie Larson (who is an amazing actress) or simply because they don't like to see a woman with power on screen   \n",
       "30                                                                                                                                                                                                                                                                                                                                                                                                                                                                                                                                                                           I thought it was a fun movie the Talos is cool and so is obviously Sam L Jackson the rest of the movie is like eh but still a great and fun time   \n",
       "31                                                                                                                                                                                                                                                                                                                                                                                                                                                                                                                                                                            Probably one of the worst movies Marvel has made. Brie Larson's acting was horrible and the story went nowhere. Her origin story was the worst.   \n",
       "\n",
       "   final_sentiment  \n",
       "0         positive  \n",
       "1         negative  \n",
       "2         negative  \n",
       "3         negative  \n",
       "4         negative  \n",
       "5         positive  \n",
       "6         positive  \n",
       "7         negative  \n",
       "8         negative  \n",
       "9         negative  \n",
       "10        negative  \n",
       "11        negative  \n",
       "12        positive  \n",
       "13        negative  \n",
       "15        negative  \n",
       "16        positive  \n",
       "18        positive  \n",
       "19        negative  \n",
       "20        negative  \n",
       "21        negative  \n",
       "22        negative  \n",
       "23        positive  \n",
       "24        negative  \n",
       "25        positive  \n",
       "26        positive  \n",
       "27        negative  \n",
       "28        positive  \n",
       "29        positive  \n",
       "30        positive  \n",
       "31        negative  "
      ]
     },
     "execution_count": 62,
     "metadata": {},
     "output_type": "execute_result"
    }
   ],
   "source": [
    "dataset = dataset[['review','final_sentiment']]\n",
    "dataset = dataset[dataset['final_sentiment'] != 'neutral']\n",
    "dataset.dropna(inplace=True)\n",
    "print(dataset.shape)\n",
    "dataset.head(30)"
   ]
  },
  {
   "cell_type": "code",
   "execution_count": 63,
   "metadata": {
    "slideshow": {
     "slide_type": "slide"
    }
   },
   "outputs": [],
   "source": [
    "dataset=dataset.reset_index(drop=True)\n"
   ]
  },
  {
   "cell_type": "code",
   "execution_count": 64,
   "metadata": {
    "colab": {
     "base_uri": "https://localhost:8080/",
     "height": 206
    },
    "executionInfo": {
     "elapsed": 31,
     "status": "ok",
     "timestamp": 1654787988268,
     "user": {
      "displayName": "SKILLCATE",
      "userId": "11062674699417926870"
     },
     "user_tz": -330
    },
    "id": "OogtEOYrO-CW",
    "outputId": "2805cc01-ea6b-4d16-cd58-330ddb60a875",
    "slideshow": {
     "slide_type": "slide"
    }
   },
   "outputs": [
    {
     "data": {
      "text/html": [
       "<div>\n",
       "<style scoped>\n",
       "    .dataframe tbody tr th:only-of-type {\n",
       "        vertical-align: middle;\n",
       "    }\n",
       "\n",
       "    .dataframe tbody tr th {\n",
       "        vertical-align: top;\n",
       "    }\n",
       "\n",
       "    .dataframe thead th {\n",
       "        text-align: right;\n",
       "    }\n",
       "</style>\n",
       "<table border=\"1\" class=\"dataframe\">\n",
       "  <thead>\n",
       "    <tr style=\"text-align: right;\">\n",
       "      <th></th>\n",
       "      <th>review</th>\n",
       "      <th>final_sentiment</th>\n",
       "    </tr>\n",
       "  </thead>\n",
       "  <tbody>\n",
       "    <tr>\n",
       "      <th>0</th>\n",
       "      <td>A totally awesome MCU entry, clever, hilarious, surprising, with some great origin stories of important characters and it makes you look at yourself and question your assumptions and default biases.  I donâ€™t understand the low scores, sounds like something besides the movie/plot is driving them. See this movie, itâ€™s incredible.</td>\n",
       "      <td>0</td>\n",
       "    </tr>\n",
       "    <tr>\n",
       "      <th>1</th>\n",
       "      <td>Wooow this is a baaad movie. Worst lead character in the entire Marvel Universe!</td>\n",
       "      <td>1</td>\n",
       "    </tr>\n",
       "    <tr>\n",
       "      <th>2</th>\n",
       "      <td>Unmemorable movie, there's a little of Top Gun, Green Lantern (that said it all) and worst of all a little of Marvel magic. The protagonist is mono-dimensional and we know how cool, good, fun she is by what other character say about her. She never acts cool, fun or anything else... a big shame!</td>\n",
       "      <td>1</td>\n",
       "    </tr>\n",
       "    <tr>\n",
       "      <th>3</th>\n",
       "      <td>Aside from the most woodenactor in the world,  the cgi is laughable at times</td>\n",
       "      <td>1</td>\n",
       "    </tr>\n",
       "    <tr>\n",
       "      <th>4</th>\n",
       "      <td>Brie Larson put too much of her own obtuse personality into the film</td>\n",
       "      <td>1</td>\n",
       "    </tr>\n",
       "    <tr>\n",
       "      <th>...</th>\n",
       "      <td>...</td>\n",
       "      <td>...</td>\n",
       "    </tr>\n",
       "    <tr>\n",
       "      <th>191</th>\n",
       "      <td>Below-par for the MCU. Powerful women in cinema have rocked for decades, and don't need to be so obvious.</td>\n",
       "      <td>1</td>\n",
       "    </tr>\n",
       "    <tr>\n",
       "      <th>192</th>\n",
       "      <td>As a huge fan of Captain Marvel from her Ms. Marvel days I loved this MCU adaptation. Brie Larson did a great job getting her personality down. Can't wait to see more of her in the MCU.</td>\n",
       "      <td>0</td>\n",
       "    </tr>\n",
       "    <tr>\n",
       "      <th>193</th>\n",
       "      <td>I've never seen someone with less charisma on screen than Brie Larson, whose acting was so hollow in this film. The character is never developed into someone you even care about and the story just isn't very interesting.  I love Samuel Jackson and even he couldn't save this film. This is the worse Marvel movie I have seen so far.</td>\n",
       "      <td>1</td>\n",
       "    </tr>\n",
       "    <tr>\n",
       "      <th>194</th>\n",
       "      <td>such a good flick. she is so strong. cant wait to watch this character grow</td>\n",
       "      <td>0</td>\n",
       "    </tr>\n",
       "    <tr>\n",
       "      <th>195</th>\n",
       "      <td>I rewatched the movie yesterday and it was really entertaining, a good Marvel movie at its best</td>\n",
       "      <td>0</td>\n",
       "    </tr>\n",
       "  </tbody>\n",
       "</table>\n",
       "<p>196 rows × 2 columns</p>\n",
       "</div>"
      ],
      "text/plain": [
       "                                                                                                                                                                                                                                                                                                                                            review  \\\n",
       "0    A totally awesome MCU entry, clever, hilarious, surprising, with some great origin stories of important characters and it makes you look at yourself and question your assumptions and default biases.  I donâ€™t understand the low scores, sounds like something besides the movie/plot is driving them. See this movie, itâ€™s incredible.   \n",
       "1                                                                                                                                                                                                                                                                 Wooow this is a baaad movie. Worst lead character in the entire Marvel Universe!   \n",
       "2                                          Unmemorable movie, there's a little of Top Gun, Green Lantern (that said it all) and worst of all a little of Marvel magic. The protagonist is mono-dimensional and we know how cool, good, fun she is by what other character say about her. She never acts cool, fun or anything else... a big shame!   \n",
       "3                                                                                                                                                                                                                                                                     Aside from the most woodenactor in the world,  the cgi is laughable at times   \n",
       "4                                                                                                                                                                                                                                                                             Brie Larson put too much of her own obtuse personality into the film   \n",
       "..                                                                                                                                                                                                                                                                                                                                             ...   \n",
       "191                                                                                                                                                                                                                                      Below-par for the MCU. Powerful women in cinema have rocked for decades, and don't need to be so obvious.   \n",
       "192                                                                                                                                                      As a huge fan of Captain Marvel from her Ms. Marvel days I loved this MCU adaptation. Brie Larson did a great job getting her personality down. Can't wait to see more of her in the MCU.   \n",
       "193    I've never seen someone with less charisma on screen than Brie Larson, whose acting was so hollow in this film. The character is never developed into someone you even care about and the story just isn't very interesting.  I love Samuel Jackson and even he couldn't save this film. This is the worse Marvel movie I have seen so far.   \n",
       "194                                                                                                                                                                                                                                                                    such a good flick. she is so strong. cant wait to watch this character grow   \n",
       "195                                                                                                                                                                                                                                                I rewatched the movie yesterday and it was really entertaining, a good Marvel movie at its best   \n",
       "\n",
       "     final_sentiment  \n",
       "0                  0  \n",
       "1                  1  \n",
       "2                  1  \n",
       "3                  1  \n",
       "4                  1  \n",
       "..               ...  \n",
       "191                1  \n",
       "192                0  \n",
       "193                1  \n",
       "194                0  \n",
       "195                0  \n",
       "\n",
       "[196 rows x 2 columns]"
      ]
     },
     "execution_count": 64,
     "metadata": {},
     "output_type": "execute_result"
    }
   ],
   "source": [
    "dataset['final_sentiment'] = pd.factorize(dataset['final_sentiment'])[0]\n",
    "dataset"
   ]
  },
  {
   "cell_type": "code",
   "execution_count": 65,
   "metadata": {},
   "outputs": [
    {
     "data": {
      "text/plain": [
       "<AxesSubplot:xlabel='final_sentiment', ylabel='count'>"
      ]
     },
     "execution_count": 65,
     "metadata": {},
     "output_type": "execute_result"
    },
    {
     "data": {
      "image/png": "[encoded data removed]",
      "text/plain": [
       "<Figure size 432x288 with 1 Axes>"
      ]
     },
     "metadata": {
      "needs_background": "light"
     },
     "output_type": "display_data"
    }
   ],
   "source": [
    "#analysis of data\n",
    "import seaborn as sns\n",
    "sns.countplot(x='final_sentiment', data=dataset)\n"
   ]
  },
  {
   "cell_type": "markdown",
   "metadata": {
    "id": "j-RW_6DZP-Np",
    "slideshow": {
     "slide_type": "slide"
    }
   },
   "source": [
    "### Data Preprocessing / Cleaning"
   ]
  },
  {
   "cell_type": "markdown",
   "metadata": {},
   "source": [
    "<img align=\"center\"   src=\"images/dropping_special_characters.png\"  >"
   ]
  },
  {
   "cell_type": "markdown",
   "metadata": {},
   "source": [
    "<img align=\"center\"   src=\"images/converting_to_small.png\"  >"
   ]
  },
  {
   "cell_type": "code",
   "execution_count": 66,
   "metadata": {
    "colab": {
     "base_uri": "https://localhost:8080/"
    },
    "executionInfo": {
     "elapsed": 868,
     "status": "ok",
     "timestamp": 1654787989113,
     "user": {
      "displayName": "SKILLCATE",
      "userId": "11062674699417926870"
     },
     "user_tz": -330
    },
    "id": "A7yu8yC0OlYB",
    "outputId": "495b827d-5671-4dd4-d622-c751ac457196",
    "slideshow": {
     "slide_type": "slide"
    }
   },
   "outputs": [
    {
     "name": "stderr",
     "output_type": "stream",
     "text": [
      "[nltk_data] Downloading package stopwords to C:\\Users\\Summan\n",
      "[nltk_data]     Bahadur\\AppData\\Roaming\\nltk_data...\n",
      "[nltk_data]   Package stopwords is already up-to-date!\n"
     ]
    }
   ],
   "source": [
    "nltk.download('stopwords')\n",
    "\n",
    "from nltk.corpus import stopwords\n",
    "from nltk.stem.porter import PorterStemmer\n",
    "ps = PorterStemmer()\n",
    "\n",
    "all_stopwords = stopwords.words('english')\n",
    "all_stopwords.remove('not')\n",
    "\n",
    "def generate_corpus():\n",
    "    corpus=[]\n",
    "    for i in range(0, 196):\n",
    "        review = re.sub('[^a-zA-Z]', ' ', dataset['review'][i])\n",
    "        review = review.lower()\n",
    "        review = review.split()\n",
    "        review = [ps.stem(word) for word in review if not word in set(all_stopwords)]\n",
    "        review = ' '.join(review)\n",
    "        corpus.append(review)\n",
    "    return corpus"
   ]
  },
  {
   "cell_type": "code",
   "execution_count": 67,
   "metadata": {},
   "outputs": [
    {
     "data": {
      "text/plain": [
       "['total awesom mcu entri clever hilari surpris great origin stori import charact make look question assumpt default bias understand low score sound like someth besid movi plot drive see movi incred',\n",
       " 'wooow baaad movi worst lead charact entir marvel univers',\n",
       " 'unmemor movi littl top gun green lantern said worst littl marvel magic protagonist mono dimension know cool good fun charact say never act cool fun anyth els big shame',\n",
       " 'asid woodenactor world cgi laughabl time',\n",
       " 'brie larson put much obtus person film',\n",
       " 'ye know anti cpt marvel diatrib origin marvel comic fan found enjoy bit much today commentari societi enjoy film',\n",
       " 'movi good origin stori charact mcu brie deliv good solid carol denver militari manner background strong woman would particularli differ way gain power ok univers bruce banner shoot gama radiat hole kree nuclea good love jude law love gemma chan like way led nick furi core expect seriou samuel l jackson first phase noth destroy movi',\n",
       " 'wow tri watch expect rough expect bad lol',\n",
       " 'plot weak not huge fan movi realli want like marvel flop first attempt okay pleas marvel give us good movi next time',\n",
       " 'not worst mcu movi anywher close fun enjoy marvel movi plot move slowli predict brie larson act write charact end make bore dislik charact littl charact develop hand samuel l jackson nick furi screen carri show side charact made movi somewhat better hate one scene nick furi cat not go spoil movi come could done lot better one reason movi work tri mani thing stick land',\n",
       " 'total unlik main charact stupid stori plot hole not mention make joke nick furi injuri worst movi far',\n",
       " 'utter bore bereft creativ sincer first true signal marvel new direct war fan sacrif genuin creativ entertain polit messag fan blame brie larson anoth nepotist hollywood child one stiff wooden act massiv sens entitl bleed portray charact vapid lifeless stori paper thin villain might worst mcu notori lacklust line movi garbag wast hundr million dollar produc someth wors forgett peopl starv movi like made wow hero',\n",
       " 'heard movi well like actual fun movi likabl protagonist everyth whole famili great time found appar movi review bomb misogynist real poll show viewer enjoy recommend reflect success box offic run wish knew sooner avoid long',\n",
       " 'nois averag somewhat stereotyp hero origin stori without much depth mayb one differ would lead charact actual not expect improv rather realiz perfect along much less compel narr need wast time anyth els watch someth seen pass time certainli would not recommend choos especi option',\n",
       " 'good movi absolut charact develop interest see someth scrull kree yeah that good say',\n",
       " 'interest good charact fun watch',\n",
       " 'enjoy movi thought funni chemistri strong watch sever time get critic act fine chemistri larson jackson great origin stori though typic scant ration thought need mention bitten radioact spider still unfold nice throughout movi show much one facial express pretti critic get critic time well spent',\n",
       " 'horribl film know wors horribl script thought clever funni horribl act lead actress one facial express throughout saw cinema want walk halfway due boredom never intend ever watch piec trash ever',\n",
       " 'watch visual effect',\n",
       " 'movi focus messag rather charact develop fail',\n",
       " 'probabl lamest mcu movi far get main charact unlik',\n",
       " 'brilliant cast one best mcu film',\n",
       " 'not great pass time that watch marvel stuff besid earli hulk lol',\n",
       " 'love great storylin love charact',\n",
       " 'good start marvel franchis',\n",
       " 'not good stori not real part mcu storylin make money instead actual put good stori background could done lot better',\n",
       " 'brilliant film start finish',\n",
       " 'movi actual realli good sad see peopl bomb neg review like brie larson amaz actress simpli like see woman power screen',\n",
       " 'thought fun movi talo cool obvious sam l jackson rest movi like eh still great fun time',\n",
       " 'probabl one worst movi marvel made brie larson act horribl stori went nowher origin stori worst',\n",
       " 'good fun movi noth deep entertain',\n",
       " 'honest like brie larson captain marvel hope problem isol movi mayb get better stori particip charact univers',\n",
       " 'year ago origin stori rearrang sci fi thriller slick visual strong back forth sam jackson brie larson cement captain marvel effect addit mcu',\n",
       " 'enjoy cool see ronan korath like made mar vell woman ok',\n",
       " 'great marvel origin stori realli like chemistri larson jackson twist unexpect ad anoth layer depth movi tie wider mcu set aveng initi keep ident enjoy lot especi goos',\n",
       " 'absolut horribl movi',\n",
       " 'pretti good origin movi captain marvel realli look forward sequel know mani peopl problem brie larson act thought great guess peopl like stern stoic charact although man think anyon would complain mean less seriou say batman least complet smile',\n",
       " 'mcu movi mediocr iron man iron man thor thor black widow first movi actual reduc appreci marvel movi feel went opposit direct major marvel movi one entertain mix littl tidbit comic easili recogniz one dumb concept captain marvel ms marvel take controversi feminist run comic felt want us enjoy movi annoy audienc burn away good',\n",
       " 'wth mcu disney think smoke approv idea captain marvel comic not good comic not sell well not sure made think good idea brie larson dumb look whole movi jump street least jump street suppos portray dumb teenag excus film edit par rest high dollar mcu movi write direct movi bad bad joke bad dialog bad plot',\n",
       " 'wedg infin war end game would never seen brie act come across villain hero',\n",
       " 'way power drip femin not true comic',\n",
       " 'garbag movi tri forc idea women good men would show femal side chang someth like wonder woman',\n",
       " 'preachi full felt like lectur class know',\n",
       " 'aw movi not wast time',\n",
       " 'simpli aw never disappoint charact develop',\n",
       " 'yeeeeeeeeeeeah well actual',\n",
       " 'first mcu film femal lead plot interest conflict kree skrull recal event colon took place histori lot girlpow film time make protagonist charact bit unsympathet nice instead nick furi come funni gag although audienc hate film find enjoy entertain',\n",
       " 'stoic act predict plot fill common feminist trope unrealist charact respons',\n",
       " 'love movi feel great romp',\n",
       " 'great watch keep come back everi crucial introduct charact link mcu past futur love movi',\n",
       " 'bad not big fan super hero movi wow one stinker',\n",
       " 'solid movi',\n",
       " 'mid movi worst mcu solo movi far',\n",
       " 'titular charact came bland bore',\n",
       " 'even know brie larson movi turn aw movi tortur minut want know ever byeeee',\n",
       " 'stori play surpris excel nd movi mcu timelin',\n",
       " 'good good movi could better',\n",
       " 'great not excel good better everi solo origin movi mcu possibl except dr strang count guardian',\n",
       " 'love brie larson perform one favorit marvel movi also goos goat',\n",
       " 'bore charact',\n",
       " 'must forgett movi whole franchis hate charact easi say not greatest film specif not best charact besid samuel l jackson captain marvel egotist unlik charact even wors aveng endgam bad movi',\n",
       " 'movi special not particip brie samuel stori captain marvel amaz movi captiv',\n",
       " 'realli bring much tabl main plot quit gener good cgi',\n",
       " 'although review bomb misogynist bigot captain marvel still good brie larson may need time figur thing cringey write definit need revis maintain four star due compel plot fantast perform samuel l jackson nick furi alreadi knew',\n",
       " 'captain marvel need depth charact watch stori uninspir stori bore unengag good thing movi young nick furri plot twist skrull',\n",
       " 'brilliant mcu origin movi',\n",
       " 'captain marvel aw lead act dri cook piec toast entertain watch paint dri write not great charact seem forc throat op forc hard interest mayb focus better write make charact futur movi like abl aw',\n",
       " 'anoth great marvel movi',\n",
       " 'bore predict brie larson act',\n",
       " 'decent normal forumula',\n",
       " 'ho hum superhero flick fast pace follow formula bit much fast cut action scene set girl rock anthem fun enough',\n",
       " 'absolut snoozer action buddycop movi samuel l jackson well bri larson given absolut noth work script direct also twist villain absolut pathet',\n",
       " 'cring disappoint',\n",
       " 'enjoy captain marvel kick butt',\n",
       " 'peopl hate movi forc love wait marvel',\n",
       " 'ambiti well pace surpris know comic not disappoint',\n",
       " 'bore bland forgett villain even forgett plot main charact hate everyth done absolut noth deserv power mari sue alert big time',\n",
       " 'not good movi act cgi horrif',\n",
       " 'snoozefest believ butcher kree vs skrull stori potenti',\n",
       " 'love movi struggl littl girl touch set tone resili never give charact daughter found inspir impow enjoy immens lot layer one film benefit multipl view read review seem lot peopl understand part given second chanc watch six time far twice cinema hbo three time blu ray enjoy everi time younger version furi coulson tremend cat hilari current love ms marvel like monica rambeau wandavis realli look forward see team captain marvel marvel',\n",
       " 'one star ben stori charact way interest brie larson cap marvel',\n",
       " 'yeah better cat',\n",
       " 'realli good first marvel movi watch inspir keep watch',\n",
       " 'bore worst mcu movi ever',\n",
       " 'captain marvel heroic charact came across stuck holier thou',\n",
       " 'not good movi like origin thor not care anyth happen alien world kind bore movi minut long got bit polit like brie larson not good choic either lack charisma role emili blunt would much better choic produc thought old could gone natali dormer look exactli like comic book draw save grace movi fish water stori take place sadli part stori short fleet could use one marvel movi not watch completionist otherwis skip',\n",
       " 'movi could better introduc import charact mcu introduct well lack someth els',\n",
       " 'whack movi super bore hope iman vellani carri sequel',\n",
       " 'worst marvel movi ever horribl write bad charact develop even bother',\n",
       " 'pleas come origin idea',\n",
       " 'love film noth bother complaint mcu film put togeth soo good plot stori awsom top film time other nwh dr strang multivers madd ect',\n",
       " 'charact arc tension anoth dull cgi mess marvel factori',\n",
       " 'honestli believ one best mcu movi probabl around th good plot great cgi pace feel rush watch easi understand way introduc carol great definit one favourit back stori genuin believ rate low first mcu femal lead movi base femal charact also peopl gener hate brie larson disappoint movi realli good think peopl judg movi charact hate toward actress',\n",
       " 'possibl first bad movi mcu ever put',\n",
       " 'far worst mcu movi suffer watch cring tri hard femal empower jessica jone alot better',\n",
       " 'terribl movi first oh good watch second time oh definit make bad',\n",
       " 'honestli think could dislik brie larson alreadi watch movi possibl stuck full time best list actress perform beyond flat bad studio hire doubl act like hank hill situat',\n",
       " 'heavili underr film enjoy got interest lot peopl mad op',\n",
       " 'like movi watch multipl time like charact ms marvel bree hott hope never see bree short hair ever though hideou',\n",
       " 'buddi cop type stori two charact littl chemistri exactli likeabl stori interest telegraph idea hard reveal interest thing happen',\n",
       " 'anoth marvel movi place horribl forc joke flat differ actor actress would nice late film bad also cgi littl much budget cut',\n",
       " 'exceedingli dull poorli written',\n",
       " 'like plot enough watch also feel brie larson fit charact captain marvel may good actress abl see main hero unfortun',\n",
       " 'throughli enjoy movi',\n",
       " 'mayb depend feel movi connect rest mcu except appear mick furi',\n",
       " 'respect origin stori theme captain marvel charact film make main hero way overpow third act bore power stake intrigu film build matter know gonna kick everyon butt nice inspir hero less strict cynic nick furi flaw film work',\n",
       " 'favorit marvel film',\n",
       " 'alreadi sub par movi add brie larson mix becom whole type garbag',\n",
       " 'love movi fun see empow hero figur past blast see nick furi youth get know lost eye love stori twist enemi actual movi lot dri wit pace beauti dead spot get time charact bond wait see sequel',\n",
       " 'movi took dread origin movi made even bland remov charact arc either due brie larsen act choic director writer combin tell realli happen movi coupl year seen also ran nissan superhero movi take space could fill better movi stronger messag hope divers go hate bland much aw movi watchabl yawn',\n",
       " 'one star b movi point interest plot around bad guy design blockbust worst somewhat real product feel uncomfort imagin peopl actual work scenario dialog action weird mani thing point give alreadi',\n",
       " 'one marvel film realli struggl watch',\n",
       " 'pure garbag mani line dialogu cring worthi complet emascul nick furi charact make captain marvel look good',\n",
       " 'oh wow love main charact everyth first minut evolv learn lesson throughout journey cool stuff inde',\n",
       " 'certifi fresh cringeworthingli terribl',\n",
       " 'bland bore predict',\n",
       " 'movi highli deliv',\n",
       " 'bore grow love charact movi brief cgi ruin movi would rather seen makeup',\n",
       " 'love strong femal role love set back time',\n",
       " 'bore plot entir mcu',\n",
       " 'like movi cat goos kind bore',\n",
       " 'movi could much better potenti bri larsen main charact show emotionless super hero fit role one bit write aw someon abil take multipl ship take thano movi put book one top worst marvel movi',\n",
       " 'unlik origin stori look everi first spider man movi film sore hero know well great mixtur plot action comedi',\n",
       " 'bore probabl script pull last minut tri cash success wonder woman not mention undermin establish charact nick furi surpris written idiot wrote solo',\n",
       " 'complet forgett movi definit one worst mcu movi poorli written probabl one worst villain seen recent time big screen',\n",
       " 'hate nonsens tbh movi great love plot sequenc movi',\n",
       " 'movi bore',\n",
       " 'feel less like movi like attack sensibl could larson cocki depth develop charact',\n",
       " 'one better marvel movi solid stori begin end',\n",
       " 'real surpris sci fi mix real world work well like prequel everyth gone',\n",
       " 'horribl sinc start difficult follow someon know noth charact want like bore',\n",
       " 'full action funni moment captain marvel begin stori becam aveng start first place excel stori develop',\n",
       " 'one greatest stan lee cameo ever film trap shit movi',\n",
       " 'movi person',\n",
       " 'larson suck mesh cast act rough not spirit rest marvel bodi work',\n",
       " 'easili worst mcu movi lot march found superhero downright unlik',\n",
       " 'good flaw marvel flick captain marvel entertain whole famili great theme beauti visual hero look',\n",
       " 'marvel execut director think appeal movi woman empower action would wrong feel like insult',\n",
       " 'ben mendelsohn best part despit solid visual stori one weakest marvel film',\n",
       " 'great superhero origin stori not new idea one see much anymor fun see brie lardon carol danver grow develop front eye lynch mendelsohn law jackson great also brie larson yet settl role better start posit hero',\n",
       " 'captain marvel good movi first femal led movi mcu think pretti well movi think still review bomb person think lack bit emot not main charact villain know perhap learn second movi',\n",
       " 'one worst movi ever seen bland dull bore not sure brie larson meant play charact receiv direct carol lifeless unlik movi none actor feel like care deliv line want quit movi mani time stuck connect endgam not worth skip',\n",
       " 'initi intrigu interest fact femal led abomin mcu honestli worst high budget film ever watch',\n",
       " 'one weaker mcu film charact seem shove last moment',\n",
       " 'littl villain develop super cring bore movi overal',\n",
       " 'unwatch would serious consid burn tv tablet watch devic',\n",
       " 'realli like not best mcu movi still fun watch',\n",
       " 'good idea flaw execut end film feel noth gone deep emot journey carol not enough clear charact develop theme skrull fun though past nick furi good guy kree antagonist fall flat howev',\n",
       " 'overpow protagonist bore everyth forgett',\n",
       " 'captain marvel introduc way earlier build import upcom movi',\n",
       " 'arguabl worst marvel movi ever seen perspect statement seen hulk offens eric bank one greatest actor world could list flaw better thing overal qualiti made tv movi not worth full price ticket bought see',\n",
       " 'chemistri brie samuel l jackson feel forc plu brie larson tri super hard not act stori focu hero journey rather tri stir cultur poltic',\n",
       " 'understand want creat elev strong femal charact captain marvel seem like thing focus movi riddl glare plot hole mediocr lazi write often ignor negat render nonsens sever element previous establish mcu develop main charact seem rush shallow one dimension forc almost seem messag tri convey import stori creat complex well round charact intend assum cornerston next phase mcu',\n",
       " 'great movi power super hero weak wooden dialogu apathi',\n",
       " 'movi woke forgot anyth els spew cultur polit like know build sens charact instead tell us consist storylin rest mcu look cthulhu cat mani thing good marvel film sfx cgi rest movi togeth brie human forgotten histori mistak',\n",
       " 'brie larson nichola perfect togeth movi also great',\n",
       " 'classic case inherit without sacrific born silver spoon mouth make other empath way power pain gain fun',\n",
       " 'actress horribl amateur grandma pretend like better actress even compar warda scarlet witch',\n",
       " 'anoth bore film brie larson nice like toaster',\n",
       " 'wish could done better charact wast much potenti',\n",
       " 'rate film',\n",
       " 'good movi end not good match cgi',\n",
       " 'movi mediocr best watch connect dot movi univers worst marvel movi opinion',\n",
       " 'larson great choic role bring welcom leviti verv movi great littl els worth recommend',\n",
       " 'thought great introduct captain marvel',\n",
       " 'worst mcu movi wast much potenti joke werent funni nick eye action horribl predict half movi doesent make sens worst mcu film would rather watch dark world day straight',\n",
       " 'bad choic cast brie larson strongest superhero mcu brie larson awkward presenc captain marvel made movi hard watch plot bad limit sloppi write awkward perform',\n",
       " 'mani peopl dishonest movi agenda honest review consid watch pretti good marvel film overal enjoy ongo stori continu mcu one worth watch film put area dr strang ant man much better thor dark world not good captain america winter soldier fair rate audienc score would around',\n",
       " 'movi lack drama storytel captain marvel play brie larson one strongest charact go see mcu realli hope show without overdon special effect like done movi',\n",
       " 'pretti flat plot brie larson fail make charact dimension badass',\n",
       " 'bore action sequenc almost none action sequenc danver invulner villain bad stake bad joke horribl portray bree larson miss opportun great hero not even de soundtrack good captain marvel memor everi movi mcu',\n",
       " 'absolut amaz peopl hate brie awesom movi one best marvel movi underr love storylin power cool think peopl dislik bc power thor shame',\n",
       " 'stori bore poorli thought brie larson fell flat realli make captain marvel rude condescend arrog unlik charact kinda root thano littl endgam definit worth skip',\n",
       " 'potenti movi let poor cast brie larson flat wooden amount cgi help samuel jackson convinc younger version captain marvel person inner struggl told flashback struggl grow well done probabl high point movi movi also includ twist stori movi never realli come togeth interest way',\n",
       " 'good film could much better',\n",
       " 'probabl worst marvel movi potenti chang charact much fit actress wrong move sinc complet opposit captain marvel look charact may not right fit long run captain marvel',\n",
       " 'underr gem mcu genr captain marvel one time girl power feel forc predict attempt shoehorn american militar stori never need alongsid girl power hold back',\n",
       " 'miss releas fulli watch yesterday terribl stori main charact act wors scarecrow give half point samuel l jackson made screen lot pleasant toler',\n",
       " 'sadli nick furi cari movi much think back problem love scene especi end scene import whole mcu plotlin thing cpt marvel power kinda interest also kind simpl storylin alright',\n",
       " 'terribl one worst superhero movi ever pretti bad',\n",
       " 'bore predict not essenti movi brie not good act also',\n",
       " 'movi good charact act like not real',\n",
       " 'peopl complain movi live basement think ayn rand highli intellig',\n",
       " 'awesom hilari well due movi',\n",
       " 'bore flat main charact unlik',\n",
       " 'samuel l jackson nick furi make one worth watch captain marvel bland hero vagu defin power bore backstori fun time heart mcu movi',\n",
       " 'realli like film thought great stori realli great act awesom action scene understand peopl hate badli film think brie larson support cast superb job along crew realli stellar work well film might not par best stand alon mcu film includ captain america winter soldier black panther iron man thor ragnarok shang chi definit not bad either thor dark world iron man iron man chose give higher score deserv honestli not believ film one brilliant actress main role especi seen room deserv amount hate get',\n",
       " 'never understand hate around movi ultim good movi defint better half mcu',\n",
       " 'captain marvel ad mcu expand past affect present although movi bit lacklust term creat emot bond charact fight scene point',\n",
       " 'yeeesss time favorit love brie larson love unexcus femin love stori',\n",
       " 'wast time wast actor could use better engag feminist film',\n",
       " 'par mcu power women cinema rock decad need obviou',\n",
       " 'huge fan captain marvel ms marvel day love mcu adapt brie larson great job get person wait see mcu',\n",
       " 'never seen someon less charisma screen brie larson whose act hollow film charact never develop someon even care stori interest love samuel jackson even save film wors marvel movi seen far',\n",
       " 'good flick strong cant wait watch charact grow',\n",
       " 'rewatch movi yesterday realli entertain good marvel movi best']"
      ]
     },
     "execution_count": 67,
     "metadata": {},
     "output_type": "execute_result"
    }
   ],
   "source": [
    "generate_corpus()"
   ]
  },
  {
   "cell_type": "markdown",
   "metadata": {
    "id": "1TctQ_uZQM9A",
    "slideshow": {
     "slide_type": "slide"
    }
   },
   "source": [
    "### Data transformation"
   ]
  },
  {
   "cell_type": "markdown",
   "metadata": {},
   "source": [
    "<img align=\"center\"   src=\"images/dropping_stop_words.png\"  >\n"
   ]
  },
  {
   "cell_type": "markdown",
   "metadata": {},
   "source": [
    "<img align=\"center\"   src=\"images/bag_of_words.png\"  >"
   ]
  },
  {
   "cell_type": "markdown",
   "metadata": {},
   "source": [
    "# Bag of Words\n",
    "\n",
    "**Computer can still not understand the corpus and hence we need to convert it into numbers i.e. convert it into Bag of Words**\n",
    " \n",
    " - System will uniquely identify all unique words , tokens and will create saperate columns for each of the token\n",
    " - It is also called Feature extraction where each word is used as a feature for training the classifier\n",
    " - Bag of words representation discards information on order and sequencing of words\n",
    " - Dropping tokens (unique words) that only reflect in only a few reviews, reduces sparsity"
   ]
  },
  {
   "cell_type": "code",
   "execution_count": 68,
   "metadata": {
    "id": "byh_MglBOsG0",
    "slideshow": {
     "slide_type": "slide"
    }
   },
   "outputs": [],
   "source": [
    "from sklearn.feature_extraction.text import CountVectorizer\n",
    "cv = CountVectorizer(max_features = 1000) # with 1420 - accuracy was 0.6"
   ]
  },
  {
   "cell_type": "code",
   "execution_count": 69,
   "metadata": {
    "id": "KCT0kv6hCN9Y",
    "slideshow": {
     "slide_type": "slide"
    }
   },
   "outputs": [],
   "source": [
    "corpus = generate_corpus()\n",
    "X = cv.fit_transform(corpus).toarray()\n",
    "y = dataset.iloc[:, -1].values"
   ]
  },
  {
   "cell_type": "code",
   "execution_count": 70,
   "metadata": {},
   "outputs": [
    {
     "name": "stdout",
     "output_type": "stream",
     "text": [
      "Vocabulary:  {'total': 891, 'awesom': 66, 'mcu': 530, 'entri': 298, 'clever': 166, 'hilari': 421, 'surpris': 845, 'great': 404, 'origin': 606, 'stori': 819, 'import': 437, 'charact': 154, 'make': 516, 'look': 503, 'question': 668, 'assumpt': 57, 'default': 225, 'bias': 95, 'understand': 911, 'low': 507, 'score': 734, 'sound': 791, 'like': 493, 'someth': 786, 'besid': 91, 'movi': 559, 'plot': 636, 'drive': 265, 'see': 739, 'incred': 441, 'wooow': 975, 'baaad': 70, 'worst': 979, 'lead': 481, 'entir': 296, 'marvel': 524, 'univers': 918, 'unmemor': 920, 'littl': 499, 'top': 889, 'gun': 410, 'green': 406, 'lantern': 471, 'said': 722, 'magic': 512, 'protagonist': 663, 'mono': 556, 'dimension': 244, 'know': 464, 'cool': 194, 'good': 399, 'fun': 374, 'say': 727, 'never': 572, 'act': 5, 'anyth': 42, 'els': 281, 'big': 96, 'shame': 754, 'asid': 55, 'woodenactor': 974, 'world': 977, 'cgi': 150, 'laughabl': 477, 'time': 878, 'brie': 120, 'larson': 474, 'put': 666, 'much': 561, 'obtus': 589, 'person': 628, 'film': 343, 'ye': 991, 'anti': 39, 'cpt': 202, 'diatrib': 241, 'comic': 173, 'fan': 327, 'found': 367, 'enjoy': 293, 'bit': 98, 'today': 883, 'commentari': 174, 'societi': 781, 'deliv': 229, 'solid': 783, 'carol': 141, 'denver': 230, 'militari': 545, 'manner': 520, 'background': 72, 'strong': 826, 'woman': 970, 'would': 982, 'particularli': 620, 'differ': 242, 'way': 949, 'gain': 380, 'power': 649, 'ok': 596, 'bruce': 124, 'banner': 78, 'shoot': 759, 'gama': 381, 'radiat': 670, 'hole': 423, 'kree': 466, 'nuclea': 587, 'love': 506, 'law': 478, 'gemma': 385, 'chan': 151, 'led': 485, 'nick': 577, 'furi': 376, 'core': 196, 'expect': 317, 'seriou': 747, 'samuel': 724, 'jackson': 452, 'first': 347, 'phase': 630, 'noth': 584, 'destroy': 236, 'wow': 983, 'tri': 897, 'watch': 946, 'rough': 712, 'bad': 74, 'lol': 501, 'weak': 950, 'not': 583, 'huge': 428, 'realli': 683, 'want': 942, 'flop': 355, 'attempt': 59, 'okay': 597, 'pleas': 634, 'give': 392, 'us': 925, 'next': 574, 'anywher': 43, 'close': 167, 'move': 558, 'slowli': 776, 'predict': 651, 'write': 984, 'end': 289, 'bore': 112, 'dislik': 249, 'develop': 237, 'screen': 735, 'carri': 142, 'show': 762, 'side': 763, 'made': 511, 'somewhat': 787, 'better': 93, 'hate': 417, 'one': 599, 'scene': 732, 'cat': 146, 'go': 395, 'spoil': 800, 'come': 171, 'could': 198, 'done': 254, 'lot': 505, 'reason': 685, 'work': 976, 'mani': 519, 'thing': 863, 'stick': 813, 'land': 470, 'unlik': 919, 'main': 513, 'stupid': 833, 'mention': 537, 'joke': 454, 'far': 329, 'utter': 927, 'bereft': 90, 'creativ': 204, 'sincer': 769, 'true': 899, 'signal': 764, 'new': 573, 'direct': 245, 'war': 943, 'sacrif': 718, 'genuin': 388, 'entertain': 295, 'polit': 640, 'messag': 540, 'blame': 101, 'anoth': 35, 'nepotist': 571, 'child': 158, 'stiff': 814, 'wooden': 973, 'massiv': 525, 'sens': 743, 'entitl': 297, 'bleed': 104, 'portray': 645, 'vapid': 929, 'lifeless': 491, 'paper': 616, 'thin': 862, 'villain': 936, 'might': 543, 'notori': 585, 'lacklust': 468, 'line': 496, 'garbag': 383, 'wast': 945, 'million': 546, 'dollar': 253, 'produc': 661, 'wors': 978, 'forgett': 360, 'peopl': 624, 'starv': 808, 'hero': 418, 'well': 956, 'actual': 9, 'likabl': 492, 'everyth': 308, 'whole': 960, 'famili': 326, 'appar': 45, 'review': 701, 'bomb': 109, 'misogynist': 548, 'real': 681, 'poll': 641, 'viewer': 935, 'recommend': 690, 'reflect': 692, 'success': 835, 'box': 117, 'offic': 593, 'run': 716, 'wish': 965, 'knew': 463, 'sooner': 789, 'avoid': 63, 'long': 502, 'nois': 579, 'averag': 62, 'stereotyp': 811, 'without': 968, 'depth': 232, 'mayb': 529, 'improv': 439, 'rather': 677, 'realiz': 682, 'perfect': 625, 'along': 21, 'less': 487, 'compel': 177, 'narr': 565, 'need': 568, 'seen': 741, 'pass': 621, 'certainli': 148, 'choos': 160, 'especi': 300, 'option': 605, 'absolut': 3, 'interest': 447, 'scrull': 737, 'yeah': 992, 'that': 860, 'thought': 869, 'funni': 375, 'chemistri': 156, 'sever': 751, 'get': 389, 'critic': 209, 'fine': 345, 'though': 868, 'typic': 906, 'scant': 728, 'ration': 678, 'bitten': 99, 'radioact': 671, 'spider': 798, 'still': 815, 'unfold': 915, 'nice': 575, 'throughout': 874, 'facial': 320, 'express': 318, 'pretti': 656, 'spent': 796, 'horribl': 427, 'script': 736, 'actress': 8, 'saw': 726, 'cinema': 162, 'walk': 940, 'halfway': 414, 'due': 266, 'boredom': 113, 'intend': 446, 'ever': 305, 'piec': 631, 'trash': 895, 'visual': 937, 'effect': 275, 'focus': 357, 'fail': 323, 'probabl': 659, 'lamest': 469, 'brilliant': 122, 'cast': 145, 'best': 92, 'stuff': 832, 'earli': 269, 'hulk': 429, 'storylin': 820, 'start': 807, 'franchis': 369, 'part': 618, 'money': 554, 'instead': 445, 'finish': 346, 'sad': 720, 'neg': 569, 'amaz': 29, 'simpli': 767, 'talo': 849, 'obvious': 591, 'sam': 723, 'rest': 699, 'eh': 277, 'went': 957, 'nowher': 586, 'deep': 224, 'honest': 424, 'captain': 137, 'hope': 426, 'problem': 660, 'particip': 619, 'year': 993, 'ago': 16, 'rearrang': 684, 'sci': 733, 'fi': 339, 'thriller': 871, 'slick': 774, 'back': 71, 'forth': 364, 'cement': 147, 'addit': 13, 'ronan': 709, 'korath': 465, 'mar': 521, 'vell': 930, 'twist': 903, 'unexpect': 914, 'ad': 10, 'layer': 479, 'tie': 877, 'wider': 962, 'set': 749, 'aveng': 61, 'initi': 443, 'keep': 459, 'ident': 431, 'goos': 400, 'forward': 366, 'sequel': 745, 'guess': 409, 'stern': 812, 'stoic': 818, 'although': 27, 'man': 518, 'think': 864, 'anyon': 41, 'complain': 178, 'mean': 531, 'batman': 81, 'least': 483, 'complet': 180, 'smile': 777, 'mediocr': 533, 'iron': 451, 'thor': 866, 'black': 100, 'widow': 963, 'reduc': 691, 'appreci': 48, 'feel': 333, 'opposit': 604, 'major': 515, 'mix': 551, 'tidbit': 876, 'easili': 272, 'recogniz': 689, 'dumb': 268, 'concept': 183, 'ms': 560, 'take': 848, 'controversi': 190, 'feminist': 338, 'felt': 335, 'annoy': 34, 'audienc': 60, 'burn': 129, 'away': 65, 'wth': 989, 'disney': 250, 'smoke': 778, 'approv': 49, 'idea': 430, 'sell': 742, 'sure': 844, 'jump': 458, 'street': 824, 'suppos': 843, 'teenag': 852, 'excus': 314, 'edit': 274, 'par': 617, 'high': 419, 'dialog': 239, 'wedg': 953, 'game': 382, 'across': 4, 'drip': 264, 'femin': 337, 'forc': 359, 'women': 971, 'men': 535, 'femal': 336, 'chang': 153, 'wonder': 972, 'preachi': 650, 'full': 372, 'lectur': 484, 'class': 163, 'aw': 64, 'disappoint': 247, 'yeeeeeeeeeeeah': 994, 'conflict': 185, 'skrull': 773, 'recal': 686, 'event': 304, 'colon': 169, 'took': 888, 'place': 632, 'histori': 422, 'girlpow': 391, 'unsympathet': 922, 'gag': 379, 'find': 344, 'fill': 342, 'common': 175, 'trope': 898, 'unrealist': 921, 'respons': 698, 'romp': 708, 'everi': 306, 'crucial': 210, 'introduct': 450, 'link': 497, 'past': 622, 'futur': 378, 'super': 839, 'stinker': 816, 'mid': 542, 'solo': 784, 'titular': 880, 'came': 133, 'bland': 102, 'even': 303, 'turn': 900, 'tortur': 890, 'minut': 547, 'byeeee': 132, 'play': 633, 'excel': 312, 'nd': 567, 'timelin': 879, 'possibl': 647, 'except': 313, 'dr': 259, 'strang': 823, 'count': 200, 'guardian': 408, 'perform': 626, 'favorit': 331, 'also': 26, 'goat': 396, 'must': 564, 'easi': 271, 'greatest': 405, 'specif': 795, 'egotist': 276, 'endgam': 290, 'special': 794, 'captiv': 138, 'bring': 123, 'tabl': 846, 'quit': 669, 'gener': 386, 'bigot': 97, 'may': 528, 'figur': 341, 'cringey': 208, 'definit': 227, 'revis': 702, 'maintain': 514, 'four': 368, 'star': 806, 'fantast': 328, 'alreadi': 24, 'uninspir': 917, 'unengag': 912, 'young': 998, 'furri': 377, 'dri': 263, 'cook': 193, 'toast': 881, 'paint': 614, 'seem': 740, 'throat': 872, 'op': 601, 'hard': 416, 'abl': 1, 'decent': 223, 'normal': 582, 'forumula': 365, 'superhero': 841, 'flick': 354, 'fast': 330, 'pace': 612, 'follow': 358, 'formula': 363, 'cut': 214, 'action': 6, 'girl': 390, 'rock': 706, 'anthem': 38, 'enough': 294, 'snoozer': 780, 'buddycop': 126, 'bri': 119, 'given': 393, 'pathet': 623, 'cring': 206, 'kick': 460, 'butt': 131, 'wait': 939, 'ambiti': 30, 'deserv': 233, 'mari': 523, 'sue': 837, 'alert': 17, 'snoozefest': 779, 'believ': 87, 'butcher': 130, 'vs': 938, 'potenti': 648, 'struggl': 829, 'touch': 892, 'tone': 887, 'resili': 696, 'daughter': 218, 'inspir': 444, 'impow': 438, 'immens': 436, 'benefit': 89, 'multipl': 562, 'view': 934, 'read': 680, 'second': 738, 'chanc': 152, 'six': 771, 'twice': 902, 'three': 870, 'blu': 106, 'ray': 679, 'younger': 999, 'version': 932, 'coulson': 199, 'tremend': 896, 'current': 213, 'monica': 555, 'rambeau': 673, 'wandavis': 941, 'team': 851, 'ben': 88, 'cap': 136, 'stuck': 830, 'thou': 867, 'care': 139, 'happen': 415, 'alien': 18, 'kind': 461, 'got': 401, 'choic': 159, 'either': 278, 'lack': 467, 'charisma': 155, 'role': 707, 'emili': 283, 'blunt': 107, 'old': 598, 'gone': 397, 'natali': 566, 'dormer': 255, 'exactli': 310, 'book': 111, 'draw': 261, 'save': 725, 'grace': 402, 'fish': 348, 'water': 948, 'sadli': 721, 'short': 760, 'fleet': 353, 'use': 926, 'completionist': 181, 'otherwis': 608, 'skip': 772, 'introduc': 449, 'whack': 959, 'iman': 435, 'vellani': 931, 'bother': 115, 'complaint': 179, 'togeth': 884, 'soo': 788, 'awsom': 68, 'other': 607, 'nwh': 588, 'multivers': 563, 'madd': 510, 'ect': 273, 'arc': 50, 'tension': 855, 'dull': 267, 'mess': 539, 'factori': 322, 'honestli': 425, 'around': 53, 'th': 858, 'rush': 717, 'favourit': 332, 'rate': 676, 'base': 79, 'judg': 457, 'toward': 893, 'suffer': 838, 'empower': 288, 'jone': 455, 'alot': 23, 'terribl': 857, 'oh': 595, 'list': 498, 'beyond': 94, 'flat': 351, 'studio': 831, 'doubl': 257, 'situat': 770, 'underr': 910, 'mad': 509, 'bree': 118, 'hair': 412, 'buddi': 125, 'cop': 195, 'type': 905, 'two': 904, 'likeabl': 494, 'telegraph': 853, 'reveal': 700, 'actor': 7, 'late': 476, 'budget': 127, 'exceedingli': 311, 'poorli': 644, 'written': 986, 'fit': 349, 'unfortun': 916, 'throughli': 873, 'depend': 231, 'connect': 186, 'appear': 47, 'mick': 541, 'respect': 697, 'theme': 861, 'overpow': 611, 'third': 865, 'stake': 803, 'intrigu': 448, 'build': 128, 'matter': 527, 'gonna': 398, 'everyon': 307, 'strict': 825, 'cynic': 215, 'flaw': 352, 'sub': 834, 'add': 12, 'becom': 85, 'empow': 287, 'blast': 103, 'lost': 504, 'eye': 319, 'enemi': 291, 'wit': 966, 'beauti': 83, 'dead': 221, 'spot': 802, 'bond': 110, 'dread': 262, 'remov': 694, 'larsen': 473, 'director': 246, 'writer': 985, 'combin': 170, 'tell': 854, 'coupl': 201, 'ran': 674, 'nissan': 578, 'space': 793, 'stronger': 827, 'divers': 251, 'watchabl': 947, 'yawn': 990, 'point': 639, 'guy': 411, 'design': 234, 'blockbust': 105, 'product': 662, 'uncomfort': 908, 'imagin': 434, 'scenario': 731, 'weird': 954, 'pure': 665, 'dialogu': 240, 'worthi': 981, 'emascul': 282, 'evolv': 309, 'learn': 482, 'lesson': 488, 'journey': 456, 'inde': 442, 'certifi': 149, 'fresh': 370, 'cringeworthingli': 207, 'highli': 420, 'grow': 407, 'brief': 121, 'ruin': 715, 'makeup': 517, 'emotionless': 285, 'someon': 785, 'abil': 0, 'ship': 756, 'thano': 859, 'sore': 790, 'mixtur': 552, 'comedi': 172, 'pull': 664, 'last': 475, 'cash': 144, 'undermin': 909, 'establish': 302, 'idiot': 432, 'wrote': 988, 'recent': 688, 'nonsens': 581, 'tbh': 850, 'sequenc': 746, 'attack': 58, 'sensibl': 744, 'cocki': 168, 'begin': 86, 'prequel': 652, 'sinc': 768, 'difficult': 243, 'moment': 553, 'becam': 84, 'stan': 804, 'lee': 486, 'cameo': 134, 'trap': 894, 'shit': 757, 'suck': 836, 'mesh': 538, 'spirit': 799, 'bodi': 108, 'march': 522, 'downright': 258, 'execut': 315, 'appeal': 46, 'wrong': 987, 'mendelsohn': 536, 'despit': 235, 'weakest': 952, 'anymor': 40, 'lardon': 472, 'danver': 216, 'front': 371, 'lynch': 508, 'yet': 997, 'settl': 750, 'posit': 646, 'emot': 284, 'perhap': 627, 'meant': 532, 'receiv': 687, 'none': 580, 'worth': 980, 'fact': 321, 'abomin': 2, 'weaker': 951, 'shove': 761, 'overal': 609, 'unwatch': 923, 'serious': 748, 'consid': 187, 'tv': 901, 'tablet': 847, 'devic': 238, 'clear': 165, 'antagonist': 37, 'fall': 325, 'earlier': 270, 'upcom': 924, 'arguabl': 52, 'perspect': 629, 'statement': 809, 'offens': 592, 'eric': 299, 'bank': 77, 'qualiti': 667, 'price': 658, 'ticket': 875, 'bought': 116, 'plu': 638, 'focu': 356, 'stir': 817, 'cultur': 212, 'poltic': 642, 'creat': 203, 'elev': 280, 'riddl': 704, 'glare': 394, 'lazi': 480, 'often': 594, 'ignor': 433, 'negat': 570, 'render': 695, 'element': 279, 'previous': 657, 'shallow': 753, 'almost': 19, 'convey': 191, 'complex': 182, 'round': 713, 'assum': 56, 'cornerston': 197, 'apathi': 44, 'woke': 969, 'forgot': 361, 'spew': 797, 'consist': 188, 'cthulhu': 211, 'sfx': 752, 'forgotten': 362, 'mistak': 550, 'nichola': 576, 'classic': 164, 'case': 143, 'sacrific': 719, 'born': 114, 'silver': 765, 'spoon': 801, 'mouth': 557, 'empath': 286, 'pain': 613, 'amateur': 28, 'grandma': 403, 'pretend': 655, 'compar': 176, 'warda': 944, 'scarlet': 730, 'witch': 967, 'toaster': 882, 'match': 526, 'dot': 256, 'opinion': 602, 'welcom': 955, 'leviti': 490, 'verv': 933, 'werent': 958, 'half': 413, 'doesent': 252, 'dark': 217, 'day': 219, 'straight': 822, 'strongest': 828, 'awkward': 67, 'presenc': 653, 'limit': 495, 'sloppi': 775, 'dishonest': 248, 'agenda': 15, 'ongo': 600, 'continu': 189, 'area': 51, 'ant': 36, 'america': 31, 'winter': 964, 'soldier': 782, 'fair': 324, 'drama': 260, 'storytel': 821, 'overdon': 610, 'badass': 75, 'miss': 549, 'opportun': 603, 'de': 220, 'soundtrack': 792, 'memor': 534, 'bc': 82, 'fell': 334, 'rude': 714, 'condescend': 184, 'arrog': 54, 'kinda': 462, 'root': 711, 'let': 489, 'poor': 643, 'amount': 33, 'convinc': 192, 'told': 885, 'flashback': 350, 'includ': 440, 'right': 705, 'gem': 384, 'genr': 387, 'shoehorn': 758, 'american': 32, 'militar': 544, 'alongsid': 22, 'releas': 693, 'fulli': 373, 'yesterday': 996, 'scarecrow': 729, 'pleasant': 635, 'toler': 886, 'cari': 140, 'plotlin': 637, 'simpl': 766, 'alright': 25, 'essenti': 301, 'live': 500, 'basement': 80, 'ayn': 69, 'rand': 675, 'vagu': 928, 'defin': 226, 'backstori': 73, 'badli': 76, 'support': 842, 'superb': 840, 'job': 453, 'crew': 205, 'stellar': 810, 'stand': 805, 'alon': 20, 'panther': 615, 'ragnarok': 672, 'shang': 755, 'chi': 157, 'chose': 161, 'room': 710, 'ultim': 907, 'defint': 228, 'expand': 316, 'affect': 14, 'present': 654, 'term': 856, 'fight': 340, 'yeeesss': 995, 'unexcus': 913, 'engag': 292, 'decad': 222, 'obviou': 590, 'adapt': 11, 'whose': 961, 'cant': 135, 'rewatch': 703}\n"
     ]
    }
   ],
   "source": [
    "print(\"Vocabulary: \", cv.vocabulary_)"
   ]
  },
  {
   "cell_type": "code",
   "execution_count": 71,
   "metadata": {},
   "outputs": [],
   "source": [
    "# Save the bag of words for further prediction\n",
    "import pickle\n",
    "\n",
    "bow_path = \"./bow.pkl\"\n",
    "pickle.dump(cv , open(bow_path,\"wb\"))"
   ]
  },
  {
   "cell_type": "markdown",
   "metadata": {
    "id": "AdQY92UPQmsq",
    "slideshow": {
     "slide_type": "slide"
    }
   },
   "source": [
    "## Model Fitting"
   ]
  },
  {
   "cell_type": "markdown",
   "metadata": {},
   "source": [
    "<img align=\"right\" width=\"400\" src=\"images/naive_bayes.jpg\"  >\n",
    "\n",
    "## Naive Bayes\n",
    "\n",
    "   - Naive Bayes predicts Tag of a word\n",
    "   - It calculates the probability of each tag for a given text and then output the tag with the highest one\n"
   ]
  },
  {
   "cell_type": "code",
   "execution_count": 72,
   "metadata": {},
   "outputs": [],
   "source": [
    "\n",
    "# Dividing dataset into training and test set\n",
    "X_train, X_test, y_train, y_test = train_test_split(X, y, test_size = 0.20, random_state = 0)"
   ]
  },
  {
   "cell_type": "code",
   "execution_count": 73,
   "metadata": {
    "colab": {
     "base_uri": "https://localhost:8080/"
    },
    "executionInfo": {
     "elapsed": 16,
     "status": "ok",
     "timestamp": 1654787990237,
     "user": {
      "displayName": "SKILLCATE",
      "userId": "11062674699417926870"
     },
     "user_tz": -330
    },
    "id": "JXEUR3trOwrv",
    "outputId": "7d61ee2e-5803-4dac-d548-41ebf340aa3a",
    "slideshow": {
     "slide_type": "slide"
    }
   },
   "outputs": [
    {
     "data": {
      "text/plain": [
       "GaussianNB()"
      ]
     },
     "execution_count": 73,
     "metadata": {},
     "output_type": "execute_result"
    }
   ],
   "source": [
    "from sklearn.naive_bayes import GaussianNB\n",
    "classifier = GaussianNB()\n",
    "classifier.fit(X_train, y_train)"
   ]
  },
  {
   "cell_type": "markdown",
   "metadata": {
    "id": "LUpvhmMXQ0LJ",
    "slideshow": {
     "slide_type": "slide"
    }
   },
   "source": [
    "### Model performance"
   ]
  },
  {
   "cell_type": "code",
   "execution_count": 74,
   "metadata": {
    "colab": {
     "base_uri": "https://localhost:8080/"
    },
    "executionInfo": {
     "elapsed": 25,
     "status": "ok",
     "timestamp": 1654787991434,
     "user": {
      "displayName": "SKILLCATE",
      "userId": "11062674699417926870"
     },
     "user_tz": -330
    },
    "id": "fB1-BGFuO17X",
    "outputId": "e06bf171-1051-42e3-bfaf-2f35edbee348",
    "slideshow": {
     "slide_type": "slide"
    }
   },
   "outputs": [
    {
     "name": "stdout",
     "output_type": "stream",
     "text": [
      "[[10  7]\n",
      " [ 9 14]]\n"
     ]
    },
    {
     "data": {
      "text/plain": [
       "0.6"
      ]
     },
     "execution_count": 74,
     "metadata": {},
     "output_type": "execute_result"
    }
   ],
   "source": [
    "y_pred = classifier.predict(X_test)\n",
    "cm = confusion_matrix(y_test, y_pred)\n",
    "print(cm)\n",
    "\n",
    "accuracy_score(y_test, y_pred)"
   ]
  },
  {
   "cell_type": "code",
   "execution_count": 75,
   "metadata": {
    "slideshow": {
     "slide_type": "slide"
    }
   },
   "outputs": [
    {
     "name": "stdout",
     "output_type": "stream",
     "text": [
      "Prediction with preprosessing the testing data\n",
      "[0 1 1 0]\n"
     ]
    }
   ],
   "source": [
    "\n",
    "test_corpus=[\"I really enjoyed the movie\",\"wors script \",\"horribl film ever\",\"loved it\"]\n",
    "\n",
    "corpus=[]\n",
    "for t in  test_corpus:\n",
    "    test_review = re.sub('[^a-zA-Z]', ' ', t)\n",
    "    test_review = test_review.lower()\n",
    "    test_review = test_review.split()\n",
    "    test_review = [ps.stem(word) for word in test_review if not word in set(all_stopwords)]\n",
    "    test_review = ' '.join(test_review)\n",
    "    corpus.append(test_review)\n",
    "\n",
    "print(\"Prediction with preprosessing the testing data\")\n",
    "corpus =cv.transform(corpus).toarray()\n",
    "y = classifier.predict(corpus)\n",
    "print(y)\n"
   ]
  },
  {
   "cell_type": "markdown",
   "metadata": {
    "slideshow": {
     "slide_type": "slide"
    }
   },
   "source": [
    "------\n",
    "\n",
    "# Unigram - Naive Bayes"
   ]
  },
  {
   "cell_type": "code",
   "execution_count": 76,
   "metadata": {
    "slideshow": {
     "slide_type": "slide"
    }
   },
   "outputs": [],
   "source": [
    "from sklearn.feature_extraction.text import CountVectorizer\n",
    "cv = CountVectorizer(input='content',decode_error='ignore',analyzer='word', binary=False, ngram_range=(1,1))"
   ]
  },
  {
   "cell_type": "code",
   "execution_count": 77,
   "metadata": {
    "slideshow": {
     "slide_type": "slide"
    }
   },
   "outputs": [],
   "source": [
    "corpus = generate_corpus()\n",
    "X = cv.fit_transform(corpus).toarray()\n",
    "y = dataset.iloc[:, -1].values"
   ]
  },
  {
   "cell_type": "code",
   "execution_count": 78,
   "metadata": {},
   "outputs": [
    {
     "name": "stderr",
     "output_type": "stream",
     "text": [
      "C:\\Users\\Summan Bahadur\\anaconda3\\lib\\site-packages\\sklearn\\utils\\deprecation.py:87: FutureWarning: Function get_feature_names is deprecated; get_feature_names is deprecated in 1.0 and will be removed in 1.2. Please use get_feature_names_out instead.\n",
      "  warnings.warn(msg, category=FutureWarning)\n"
     ]
    },
    {
     "data": {
      "text/html": [
       "<div>\n",
       "<style scoped>\n",
       "    .dataframe tbody tr th:only-of-type {\n",
       "        vertical-align: middle;\n",
       "    }\n",
       "\n",
       "    .dataframe tbody tr th {\n",
       "        vertical-align: top;\n",
       "    }\n",
       "\n",
       "    .dataframe thead th {\n",
       "        text-align: right;\n",
       "    }\n",
       "</style>\n",
       "<table border=\"1\" class=\"dataframe\">\n",
       "  <thead>\n",
       "    <tr style=\"text-align: right;\">\n",
       "      <th></th>\n",
       "      <th>0</th>\n",
       "      <th>1</th>\n",
       "      <th>2</th>\n",
       "      <th>3</th>\n",
       "      <th>4</th>\n",
       "      <th>5</th>\n",
       "      <th>6</th>\n",
       "      <th>7</th>\n",
       "      <th>8</th>\n",
       "      <th>9</th>\n",
       "      <th>...</th>\n",
       "      <th>186</th>\n",
       "      <th>187</th>\n",
       "      <th>188</th>\n",
       "      <th>189</th>\n",
       "      <th>190</th>\n",
       "      <th>191</th>\n",
       "      <th>192</th>\n",
       "      <th>193</th>\n",
       "      <th>194</th>\n",
       "      <th>195</th>\n",
       "    </tr>\n",
       "  </thead>\n",
       "  <tbody>\n",
       "    <tr>\n",
       "      <th>yesterday</th>\n",
       "      <td>0</td>\n",
       "      <td>0</td>\n",
       "      <td>0</td>\n",
       "      <td>0</td>\n",
       "      <td>0</td>\n",
       "      <td>0</td>\n",
       "      <td>0</td>\n",
       "      <td>0</td>\n",
       "      <td>0</td>\n",
       "      <td>0</td>\n",
       "      <td>...</td>\n",
       "      <td>0</td>\n",
       "      <td>0</td>\n",
       "      <td>0</td>\n",
       "      <td>0</td>\n",
       "      <td>0</td>\n",
       "      <td>0</td>\n",
       "      <td>0</td>\n",
       "      <td>0</td>\n",
       "      <td>0</td>\n",
       "      <td>1</td>\n",
       "    </tr>\n",
       "    <tr>\n",
       "      <th>yet</th>\n",
       "      <td>0</td>\n",
       "      <td>0</td>\n",
       "      <td>0</td>\n",
       "      <td>0</td>\n",
       "      <td>0</td>\n",
       "      <td>0</td>\n",
       "      <td>0</td>\n",
       "      <td>0</td>\n",
       "      <td>0</td>\n",
       "      <td>0</td>\n",
       "      <td>...</td>\n",
       "      <td>0</td>\n",
       "      <td>0</td>\n",
       "      <td>0</td>\n",
       "      <td>0</td>\n",
       "      <td>0</td>\n",
       "      <td>0</td>\n",
       "      <td>0</td>\n",
       "      <td>0</td>\n",
       "      <td>0</td>\n",
       "      <td>0</td>\n",
       "    </tr>\n",
       "    <tr>\n",
       "      <th>young</th>\n",
       "      <td>0</td>\n",
       "      <td>0</td>\n",
       "      <td>0</td>\n",
       "      <td>0</td>\n",
       "      <td>0</td>\n",
       "      <td>0</td>\n",
       "      <td>0</td>\n",
       "      <td>0</td>\n",
       "      <td>0</td>\n",
       "      <td>0</td>\n",
       "      <td>...</td>\n",
       "      <td>0</td>\n",
       "      <td>0</td>\n",
       "      <td>0</td>\n",
       "      <td>0</td>\n",
       "      <td>0</td>\n",
       "      <td>0</td>\n",
       "      <td>0</td>\n",
       "      <td>0</td>\n",
       "      <td>0</td>\n",
       "      <td>0</td>\n",
       "    </tr>\n",
       "    <tr>\n",
       "      <th>younger</th>\n",
       "      <td>0</td>\n",
       "      <td>0</td>\n",
       "      <td>0</td>\n",
       "      <td>0</td>\n",
       "      <td>0</td>\n",
       "      <td>0</td>\n",
       "      <td>0</td>\n",
       "      <td>0</td>\n",
       "      <td>0</td>\n",
       "      <td>0</td>\n",
       "      <td>...</td>\n",
       "      <td>0</td>\n",
       "      <td>0</td>\n",
       "      <td>0</td>\n",
       "      <td>0</td>\n",
       "      <td>0</td>\n",
       "      <td>0</td>\n",
       "      <td>0</td>\n",
       "      <td>0</td>\n",
       "      <td>0</td>\n",
       "      <td>0</td>\n",
       "    </tr>\n",
       "    <tr>\n",
       "      <th>youth</th>\n",
       "      <td>0</td>\n",
       "      <td>0</td>\n",
       "      <td>0</td>\n",
       "      <td>0</td>\n",
       "      <td>0</td>\n",
       "      <td>0</td>\n",
       "      <td>0</td>\n",
       "      <td>0</td>\n",
       "      <td>0</td>\n",
       "      <td>0</td>\n",
       "      <td>...</td>\n",
       "      <td>0</td>\n",
       "      <td>0</td>\n",
       "      <td>0</td>\n",
       "      <td>0</td>\n",
       "      <td>0</td>\n",
       "      <td>0</td>\n",
       "      <td>0</td>\n",
       "      <td>0</td>\n",
       "      <td>0</td>\n",
       "      <td>0</td>\n",
       "    </tr>\n",
       "  </tbody>\n",
       "</table>\n",
       "<p>5 rows × 196 columns</p>\n",
       "</div>"
      ],
      "text/plain": [
       "           0    1    2    3    4    5    6    7    8    9    ...  186  187  \\\n",
       "yesterday    0    0    0    0    0    0    0    0    0    0  ...    0    0   \n",
       "yet          0    0    0    0    0    0    0    0    0    0  ...    0    0   \n",
       "young        0    0    0    0    0    0    0    0    0    0  ...    0    0   \n",
       "younger      0    0    0    0    0    0    0    0    0    0  ...    0    0   \n",
       "youth        0    0    0    0    0    0    0    0    0    0  ...    0    0   \n",
       "\n",
       "           188  189  190  191  192  193  194  195  \n",
       "yesterday    0    0    0    0    0    0    0    1  \n",
       "yet          0    0    0    0    0    0    0    0  \n",
       "young        0    0    0    0    0    0    0    0  \n",
       "younger      0    0    0    0    0    0    0    0  \n",
       "youth        0    0    0    0    0    0    0    0  \n",
       "\n",
       "[5 rows x 196 columns]"
      ]
     },
     "execution_count": 78,
     "metadata": {},
     "output_type": "execute_result"
    }
   ],
   "source": [
    "df_output = pd.DataFrame(data = X, columns = cv.get_feature_names())\n",
    "df_output.T.tail(5)"
   ]
  },
  {
   "cell_type": "code",
   "execution_count": 79,
   "metadata": {
    "slideshow": {
     "slide_type": "slide"
    }
   },
   "outputs": [],
   "source": [
    "X_train, X_test, y_train, y_test = train_test_split(X, y, test_size = 0.20, random_state = 0)"
   ]
  },
  {
   "cell_type": "code",
   "execution_count": 80,
   "metadata": {},
   "outputs": [
    {
     "data": {
      "text/plain": [
       "GaussianNB()"
      ]
     },
     "execution_count": 80,
     "metadata": {},
     "output_type": "execute_result"
    }
   ],
   "source": [
    "\n",
    "classifier = GaussianNB()\n",
    "classifier.fit(X_train, y_train)"
   ]
  },
  {
   "cell_type": "code",
   "execution_count": 81,
   "metadata": {},
   "outputs": [
    {
     "name": "stdout",
     "output_type": "stream",
     "text": [
      "[[10  7]\n",
      " [ 9 14]]\n"
     ]
    },
    {
     "data": {
      "text/plain": [
       "0.6"
      ]
     },
     "execution_count": 81,
     "metadata": {},
     "output_type": "execute_result"
    }
   ],
   "source": [
    "y_pred = classifier.predict(X_test)\n",
    "cm = confusion_matrix(y_test, y_pred)\n",
    "print(cm)\n",
    "accuracy_score(y_test, y_pred)"
   ]
  },
  {
   "cell_type": "markdown",
   "metadata": {},
   "source": [
    "\n",
    "# Unigram - SVM\n",
    "\n",
    "<img align=\"center\" width=\"400\" src=\"images/svm.png\"  >\n"
   ]
  },
  {
   "cell_type": "code",
   "execution_count": 82,
   "metadata": {},
   "outputs": [],
   "source": [
    "cv = CountVectorizer(input='content',decode_error='ignore',analyzer='word', binary=False, ngram_range=(1,1))"
   ]
  },
  {
   "cell_type": "code",
   "execution_count": 83,
   "metadata": {},
   "outputs": [],
   "source": [
    "corpus = generate_corpus()\n",
    "X = cv.fit_transform(corpus).toarray()\n",
    "y = dataset.iloc[:, -1].values"
   ]
  },
  {
   "cell_type": "code",
   "execution_count": 84,
   "metadata": {},
   "outputs": [],
   "source": [
    "\n",
    "X_train, X_test, y_train, y_test = train_test_split(X, y, test_size = 0.20, random_state = 0)"
   ]
  },
  {
   "cell_type": "code",
   "execution_count": 85,
   "metadata": {},
   "outputs": [
    {
     "data": {
      "text/plain": [
       "SVC(kernel='linear')"
      ]
     },
     "execution_count": 85,
     "metadata": {},
     "output_type": "execute_result"
    }
   ],
   "source": [
    "classifier = SVC(kernel='linear')\n",
    "classifier.fit(X_train, y_train)"
   ]
  },
  {
   "cell_type": "code",
   "execution_count": 86,
   "metadata": {},
   "outputs": [
    {
     "name": "stdout",
     "output_type": "stream",
     "text": [
      "[[15  2]\n",
      " [ 4 19]]\n"
     ]
    },
    {
     "data": {
      "text/plain": [
       "0.85"
      ]
     },
     "execution_count": 86,
     "metadata": {},
     "output_type": "execute_result"
    }
   ],
   "source": [
    "y_pred = classifier.predict(X_test)\n",
    "cm = confusion_matrix(y_test, y_pred)\n",
    "print(cm)\n",
    "accuracy_score(y_test, y_pred)"
   ]
  },
  {
   "cell_type": "markdown",
   "metadata": {},
   "source": [
    "# BIGRAM - Naive Bayes"
   ]
  },
  {
   "cell_type": "code",
   "execution_count": 87,
   "metadata": {},
   "outputs": [],
   "source": [
    "\n",
    "cv = CountVectorizer(input='content',decode_error='ignore',analyzer='word', binary=False, ngram_range=(2,2))"
   ]
  },
  {
   "cell_type": "code",
   "execution_count": 88,
   "metadata": {},
   "outputs": [],
   "source": [
    "corpus = generate_corpus()\n",
    "X = cv.fit_transform(corpus).toarray()\n",
    "y = dataset.iloc[:, -1].values\n",
    "\n",
    "X_train, X_test, y_train, y_test = train_test_split(X, y, test_size = 0.20, random_state = 0)"
   ]
  },
  {
   "cell_type": "code",
   "execution_count": 89,
   "metadata": {},
   "outputs": [
    {
     "name": "stderr",
     "output_type": "stream",
     "text": [
      "C:\\Users\\Summan Bahadur\\anaconda3\\lib\\site-packages\\sklearn\\utils\\deprecation.py:87: FutureWarning: Function get_feature_names is deprecated; get_feature_names is deprecated in 1.0 and will be removed in 1.2. Please use get_feature_names_out instead.\n",
      "  warnings.warn(msg, category=FutureWarning)\n"
     ]
    },
    {
     "data": {
      "text/html": [
       "<div>\n",
       "<style scoped>\n",
       "    .dataframe tbody tr th:only-of-type {\n",
       "        vertical-align: middle;\n",
       "    }\n",
       "\n",
       "    .dataframe tbody tr th {\n",
       "        vertical-align: top;\n",
       "    }\n",
       "\n",
       "    .dataframe thead th {\n",
       "        text-align: right;\n",
       "    }\n",
       "</style>\n",
       "<table border=\"1\" class=\"dataframe\">\n",
       "  <thead>\n",
       "    <tr style=\"text-align: right;\">\n",
       "      <th></th>\n",
       "      <th>0</th>\n",
       "      <th>1</th>\n",
       "      <th>2</th>\n",
       "      <th>3</th>\n",
       "      <th>4</th>\n",
       "      <th>5</th>\n",
       "      <th>6</th>\n",
       "      <th>7</th>\n",
       "      <th>8</th>\n",
       "      <th>9</th>\n",
       "      <th>...</th>\n",
       "      <th>186</th>\n",
       "      <th>187</th>\n",
       "      <th>188</th>\n",
       "      <th>189</th>\n",
       "      <th>190</th>\n",
       "      <th>191</th>\n",
       "      <th>192</th>\n",
       "      <th>193</th>\n",
       "      <th>194</th>\n",
       "      <th>195</th>\n",
       "    </tr>\n",
       "  </thead>\n",
       "  <tbody>\n",
       "    <tr>\n",
       "      <th>yesterday terribl</th>\n",
       "      <td>0</td>\n",
       "      <td>0</td>\n",
       "      <td>0</td>\n",
       "      <td>0</td>\n",
       "      <td>0</td>\n",
       "      <td>0</td>\n",
       "      <td>0</td>\n",
       "      <td>0</td>\n",
       "      <td>0</td>\n",
       "      <td>0</td>\n",
       "      <td>...</td>\n",
       "      <td>0</td>\n",
       "      <td>0</td>\n",
       "      <td>0</td>\n",
       "      <td>0</td>\n",
       "      <td>0</td>\n",
       "      <td>0</td>\n",
       "      <td>0</td>\n",
       "      <td>0</td>\n",
       "      <td>0</td>\n",
       "      <td>0</td>\n",
       "    </tr>\n",
       "    <tr>\n",
       "      <th>yet settl</th>\n",
       "      <td>0</td>\n",
       "      <td>0</td>\n",
       "      <td>0</td>\n",
       "      <td>0</td>\n",
       "      <td>0</td>\n",
       "      <td>0</td>\n",
       "      <td>0</td>\n",
       "      <td>0</td>\n",
       "      <td>0</td>\n",
       "      <td>0</td>\n",
       "      <td>...</td>\n",
       "      <td>0</td>\n",
       "      <td>0</td>\n",
       "      <td>0</td>\n",
       "      <td>0</td>\n",
       "      <td>0</td>\n",
       "      <td>0</td>\n",
       "      <td>0</td>\n",
       "      <td>0</td>\n",
       "      <td>0</td>\n",
       "      <td>0</td>\n",
       "    </tr>\n",
       "    <tr>\n",
       "      <th>young nick</th>\n",
       "      <td>0</td>\n",
       "      <td>0</td>\n",
       "      <td>0</td>\n",
       "      <td>0</td>\n",
       "      <td>0</td>\n",
       "      <td>0</td>\n",
       "      <td>0</td>\n",
       "      <td>0</td>\n",
       "      <td>0</td>\n",
       "      <td>0</td>\n",
       "      <td>...</td>\n",
       "      <td>0</td>\n",
       "      <td>0</td>\n",
       "      <td>0</td>\n",
       "      <td>0</td>\n",
       "      <td>0</td>\n",
       "      <td>0</td>\n",
       "      <td>0</td>\n",
       "      <td>0</td>\n",
       "      <td>0</td>\n",
       "      <td>0</td>\n",
       "    </tr>\n",
       "    <tr>\n",
       "      <th>younger version</th>\n",
       "      <td>0</td>\n",
       "      <td>0</td>\n",
       "      <td>0</td>\n",
       "      <td>0</td>\n",
       "      <td>0</td>\n",
       "      <td>0</td>\n",
       "      <td>0</td>\n",
       "      <td>0</td>\n",
       "      <td>0</td>\n",
       "      <td>0</td>\n",
       "      <td>...</td>\n",
       "      <td>0</td>\n",
       "      <td>0</td>\n",
       "      <td>0</td>\n",
       "      <td>0</td>\n",
       "      <td>0</td>\n",
       "      <td>0</td>\n",
       "      <td>0</td>\n",
       "      <td>0</td>\n",
       "      <td>0</td>\n",
       "      <td>0</td>\n",
       "    </tr>\n",
       "    <tr>\n",
       "      <th>youth get</th>\n",
       "      <td>0</td>\n",
       "      <td>0</td>\n",
       "      <td>0</td>\n",
       "      <td>0</td>\n",
       "      <td>0</td>\n",
       "      <td>0</td>\n",
       "      <td>0</td>\n",
       "      <td>0</td>\n",
       "      <td>0</td>\n",
       "      <td>0</td>\n",
       "      <td>...</td>\n",
       "      <td>0</td>\n",
       "      <td>0</td>\n",
       "      <td>0</td>\n",
       "      <td>0</td>\n",
       "      <td>0</td>\n",
       "      <td>0</td>\n",
       "      <td>0</td>\n",
       "      <td>0</td>\n",
       "      <td>0</td>\n",
       "      <td>0</td>\n",
       "    </tr>\n",
       "  </tbody>\n",
       "</table>\n",
       "<p>5 rows × 196 columns</p>\n",
       "</div>"
      ],
      "text/plain": [
       "                   0    1    2    3    4    5    6    7    8    9    ...  186  \\\n",
       "yesterday terribl    0    0    0    0    0    0    0    0    0    0  ...    0   \n",
       "yet settl            0    0    0    0    0    0    0    0    0    0  ...    0   \n",
       "young nick           0    0    0    0    0    0    0    0    0    0  ...    0   \n",
       "younger version      0    0    0    0    0    0    0    0    0    0  ...    0   \n",
       "youth get            0    0    0    0    0    0    0    0    0    0  ...    0   \n",
       "\n",
       "                   187  188  189  190  191  192  193  194  195  \n",
       "yesterday terribl    0    0    0    0    0    0    0    0    0  \n",
       "yet settl            0    0    0    0    0    0    0    0    0  \n",
       "young nick           0    0    0    0    0    0    0    0    0  \n",
       "younger version      0    0    0    0    0    0    0    0    0  \n",
       "youth get            0    0    0    0    0    0    0    0    0  \n",
       "\n",
       "[5 rows x 196 columns]"
      ]
     },
     "execution_count": 89,
     "metadata": {},
     "output_type": "execute_result"
    }
   ],
   "source": [
    "df_output = pd.DataFrame(data = X, columns = cv.get_feature_names())\n",
    "\n",
    "pd.set_option(\"display.max_colwidth\", None)\n",
    "df_output.T.tail(5)"
   ]
  },
  {
   "cell_type": "code",
   "execution_count": 90,
   "metadata": {},
   "outputs": [
    {
     "name": "stdout",
     "output_type": "stream",
     "text": [
      "[[15  2]\n",
      " [12 11]]\n"
     ]
    },
    {
     "data": {
      "text/plain": [
       "0.65"
      ]
     },
     "execution_count": 90,
     "metadata": {},
     "output_type": "execute_result"
    }
   ],
   "source": [
    "classifier = GaussianNB()\n",
    "classifier.fit(X_train, y_train)\n",
    "\n",
    "y_pred = classifier.predict(X_test)\n",
    "cm = confusion_matrix(y_test, y_pred)\n",
    "print(cm)\n",
    "\n",
    "accuracy_score(y_test, y_pred)"
   ]
  },
  {
   "cell_type": "markdown",
   "metadata": {},
   "source": [
    "# Bigram - SVM"
   ]
  },
  {
   "cell_type": "code",
   "execution_count": 91,
   "metadata": {},
   "outputs": [],
   "source": [
    "cv = CountVectorizer(input='content',decode_error='ignore',analyzer='word', binary=False, ngram_range=(2,2))"
   ]
  },
  {
   "cell_type": "code",
   "execution_count": 92,
   "metadata": {},
   "outputs": [],
   "source": [
    "X = cv.fit_transform(corpus).toarray()\n",
    "y = dataset.iloc[:, -1].values\n",
    "X_train, X_test, y_train, y_test = train_test_split(X, y, test_size = 0.20, random_state = 0)"
   ]
  },
  {
   "cell_type": "code",
   "execution_count": 93,
   "metadata": {},
   "outputs": [
    {
     "name": "stdout",
     "output_type": "stream",
     "text": [
      "[[ 3 14]\n",
      " [ 5 18]]\n"
     ]
    },
    {
     "data": {
      "text/plain": [
       "0.525"
      ]
     },
     "execution_count": 93,
     "metadata": {},
     "output_type": "execute_result"
    }
   ],
   "source": [
    "classifier = SVC(kernel='linear')\n",
    "classifier.fit(X_train, y_train)\n",
    "y_pred = classifier.predict(X_test)\n",
    "\n",
    "cm = confusion_matrix(y_test, y_pred)\n",
    "print(cm)\n",
    "\n",
    "accuracy_score(y_test, y_pred)"
   ]
  },
  {
   "cell_type": "markdown",
   "metadata": {},
   "source": [
    "# Trigram - Naive Bayes\n"
   ]
  },
  {
   "cell_type": "code",
   "execution_count": 94,
   "metadata": {},
   "outputs": [],
   "source": [
    "cv = CountVectorizer(input='content',decode_error='ignore',analyzer='word', binary=False, ngram_range=(3,3))\n",
    "X = cv.fit_transform(corpus).toarray()\n",
    "y = dataset.iloc[:, -1].values\n",
    "X_train, X_test, y_train, y_test = train_test_split(X, y, test_size = 0.20, random_state = 0)"
   ]
  },
  {
   "cell_type": "code",
   "execution_count": 95,
   "metadata": {},
   "outputs": [
    {
     "name": "stderr",
     "output_type": "stream",
     "text": [
      "C:\\Users\\Summan Bahadur\\anaconda3\\lib\\site-packages\\sklearn\\utils\\deprecation.py:87: FutureWarning: Function get_feature_names is deprecated; get_feature_names is deprecated in 1.0 and will be removed in 1.2. Please use get_feature_names_out instead.\n",
      "  warnings.warn(msg, category=FutureWarning)\n"
     ]
    },
    {
     "data": {
      "text/html": [
       "<div>\n",
       "<style scoped>\n",
       "    .dataframe tbody tr th:only-of-type {\n",
       "        vertical-align: middle;\n",
       "    }\n",
       "\n",
       "    .dataframe tbody tr th {\n",
       "        vertical-align: top;\n",
       "    }\n",
       "\n",
       "    .dataframe thead th {\n",
       "        text-align: right;\n",
       "    }\n",
       "</style>\n",
       "<table border=\"1\" class=\"dataframe\">\n",
       "  <thead>\n",
       "    <tr style=\"text-align: right;\">\n",
       "      <th></th>\n",
       "      <th>0</th>\n",
       "      <th>1</th>\n",
       "      <th>2</th>\n",
       "      <th>3</th>\n",
       "      <th>4</th>\n",
       "      <th>5</th>\n",
       "      <th>6</th>\n",
       "      <th>7</th>\n",
       "      <th>8</th>\n",
       "      <th>9</th>\n",
       "      <th>...</th>\n",
       "      <th>186</th>\n",
       "      <th>187</th>\n",
       "      <th>188</th>\n",
       "      <th>189</th>\n",
       "      <th>190</th>\n",
       "      <th>191</th>\n",
       "      <th>192</th>\n",
       "      <th>193</th>\n",
       "      <th>194</th>\n",
       "      <th>195</th>\n",
       "    </tr>\n",
       "  </thead>\n",
       "  <tbody>\n",
       "    <tr>\n",
       "      <th>yet settl role</th>\n",
       "      <td>0</td>\n",
       "      <td>0</td>\n",
       "      <td>0</td>\n",
       "      <td>0</td>\n",
       "      <td>0</td>\n",
       "      <td>0</td>\n",
       "      <td>0</td>\n",
       "      <td>0</td>\n",
       "      <td>0</td>\n",
       "      <td>0</td>\n",
       "      <td>...</td>\n",
       "      <td>0</td>\n",
       "      <td>0</td>\n",
       "      <td>0</td>\n",
       "      <td>0</td>\n",
       "      <td>0</td>\n",
       "      <td>0</td>\n",
       "      <td>0</td>\n",
       "      <td>0</td>\n",
       "      <td>0</td>\n",
       "      <td>0</td>\n",
       "    </tr>\n",
       "    <tr>\n",
       "      <th>young nick furri</th>\n",
       "      <td>0</td>\n",
       "      <td>0</td>\n",
       "      <td>0</td>\n",
       "      <td>0</td>\n",
       "      <td>0</td>\n",
       "      <td>0</td>\n",
       "      <td>0</td>\n",
       "      <td>0</td>\n",
       "      <td>0</td>\n",
       "      <td>0</td>\n",
       "      <td>...</td>\n",
       "      <td>0</td>\n",
       "      <td>0</td>\n",
       "      <td>0</td>\n",
       "      <td>0</td>\n",
       "      <td>0</td>\n",
       "      <td>0</td>\n",
       "      <td>0</td>\n",
       "      <td>0</td>\n",
       "      <td>0</td>\n",
       "      <td>0</td>\n",
       "    </tr>\n",
       "    <tr>\n",
       "      <th>younger version captain</th>\n",
       "      <td>0</td>\n",
       "      <td>0</td>\n",
       "      <td>0</td>\n",
       "      <td>0</td>\n",
       "      <td>0</td>\n",
       "      <td>0</td>\n",
       "      <td>0</td>\n",
       "      <td>0</td>\n",
       "      <td>0</td>\n",
       "      <td>0</td>\n",
       "      <td>...</td>\n",
       "      <td>0</td>\n",
       "      <td>0</td>\n",
       "      <td>0</td>\n",
       "      <td>0</td>\n",
       "      <td>0</td>\n",
       "      <td>0</td>\n",
       "      <td>0</td>\n",
       "      <td>0</td>\n",
       "      <td>0</td>\n",
       "      <td>0</td>\n",
       "    </tr>\n",
       "    <tr>\n",
       "      <th>younger version furi</th>\n",
       "      <td>0</td>\n",
       "      <td>0</td>\n",
       "      <td>0</td>\n",
       "      <td>0</td>\n",
       "      <td>0</td>\n",
       "      <td>0</td>\n",
       "      <td>0</td>\n",
       "      <td>0</td>\n",
       "      <td>0</td>\n",
       "      <td>0</td>\n",
       "      <td>...</td>\n",
       "      <td>0</td>\n",
       "      <td>0</td>\n",
       "      <td>0</td>\n",
       "      <td>0</td>\n",
       "      <td>0</td>\n",
       "      <td>0</td>\n",
       "      <td>0</td>\n",
       "      <td>0</td>\n",
       "      <td>0</td>\n",
       "      <td>0</td>\n",
       "    </tr>\n",
       "    <tr>\n",
       "      <th>youth get know</th>\n",
       "      <td>0</td>\n",
       "      <td>0</td>\n",
       "      <td>0</td>\n",
       "      <td>0</td>\n",
       "      <td>0</td>\n",
       "      <td>0</td>\n",
       "      <td>0</td>\n",
       "      <td>0</td>\n",
       "      <td>0</td>\n",
       "      <td>0</td>\n",
       "      <td>...</td>\n",
       "      <td>0</td>\n",
       "      <td>0</td>\n",
       "      <td>0</td>\n",
       "      <td>0</td>\n",
       "      <td>0</td>\n",
       "      <td>0</td>\n",
       "      <td>0</td>\n",
       "      <td>0</td>\n",
       "      <td>0</td>\n",
       "      <td>0</td>\n",
       "    </tr>\n",
       "  </tbody>\n",
       "</table>\n",
       "<p>5 rows × 196 columns</p>\n",
       "</div>"
      ],
      "text/plain": [
       "                         0    1    2    3    4    5    6    7    8    9    \\\n",
       "yet settl role             0    0    0    0    0    0    0    0    0    0   \n",
       "young nick furri           0    0    0    0    0    0    0    0    0    0   \n",
       "younger version captain    0    0    0    0    0    0    0    0    0    0   \n",
       "younger version furi       0    0    0    0    0    0    0    0    0    0   \n",
       "youth get know             0    0    0    0    0    0    0    0    0    0   \n",
       "\n",
       "                         ...  186  187  188  189  190  191  192  193  194  195  \n",
       "yet settl role           ...    0    0    0    0    0    0    0    0    0    0  \n",
       "young nick furri         ...    0    0    0    0    0    0    0    0    0    0  \n",
       "younger version captain  ...    0    0    0    0    0    0    0    0    0    0  \n",
       "younger version furi     ...    0    0    0    0    0    0    0    0    0    0  \n",
       "youth get know           ...    0    0    0    0    0    0    0    0    0    0  \n",
       "\n",
       "[5 rows x 196 columns]"
      ]
     },
     "execution_count": 95,
     "metadata": {},
     "output_type": "execute_result"
    }
   ],
   "source": [
    "df_output = pd.DataFrame(data = X, columns = cv.get_feature_names())\n",
    "df_output.T.tail(5)"
   ]
  },
  {
   "cell_type": "code",
   "execution_count": 96,
   "metadata": {},
   "outputs": [
    {
     "name": "stdout",
     "output_type": "stream",
     "text": [
      "[[16  1]\n",
      " [18  5]]\n"
     ]
    },
    {
     "data": {
      "text/plain": [
       "0.525"
      ]
     },
     "execution_count": 96,
     "metadata": {},
     "output_type": "execute_result"
    }
   ],
   "source": [
    "classifier = GaussianNB()\n",
    "classifier.fit(X_train, y_train)\n",
    "\n",
    "y_pred = classifier.predict(X_test)\n",
    "cm = confusion_matrix(y_test, y_pred)\n",
    "print(cm)\n",
    "\n",
    "accuracy_score(y_test, y_pred)"
   ]
  },
  {
   "cell_type": "code",
   "execution_count": 97,
   "metadata": {},
   "outputs": [
    {
     "name": "stdout",
     "output_type": "stream",
     "text": [
      "Macro: (0.6519607843137255, 0.5792838874680307, 0.48613928329952677, None)\n"
     ]
    }
   ],
   "source": [
    "print (\"Macro:\",precision_recall_fscore_support(y_test,y_pred, average='macro'))"
   ]
  },
  {
   "cell_type": "markdown",
   "metadata": {},
   "source": [
    "# Trigram - SVM"
   ]
  },
  {
   "cell_type": "code",
   "execution_count": 98,
   "metadata": {},
   "outputs": [
    {
     "name": "stdout",
     "output_type": "stream",
     "text": [
      "[[ 0 17]\n",
      " [ 0 23]]\n"
     ]
    },
    {
     "data": {
      "text/plain": [
       "0.575"
      ]
     },
     "execution_count": 98,
     "metadata": {},
     "output_type": "execute_result"
    }
   ],
   "source": [
    "classifier = SVC(kernel='linear')\n",
    "classifier.fit(X_train, y_train)\n",
    "y_pred = classifier.predict(X_test)\n",
    "\n",
    "cm = confusion_matrix(y_test, y_pred)\n",
    "print(cm)\n",
    "\n",
    "accuracy_score(y_test, y_pred)"
   ]
  },
  {
   "cell_type": "markdown",
   "metadata": {},
   "source": [
    "# Summary\n",
    "\n",
    "<img align=\"center\" width=\"400\" src=\"images/summary_ngram.png\"  >\n",
    "\n",
    "------"
   ]
  },
  {
   "cell_type": "markdown",
   "metadata": {},
   "source": [
    "# TF-IDF\n",
    "\n",
    "**In a simple bag of words, every word is given equal importance. The idea behind TF-IDF is that the words that occur more frequently in one document and less frequently in other documents should be given more importance as they are more useful for classification**\n",
    "\n",
    "   - TF-IDF is a method of Text Vectorization for words in a document\n",
    "   - It is a measure , used in the fields of Information retrieval and machine learning that can quantify the importance or relevance of string representation in a document amongst a collection of documents/corpus\n",
    "   - TF stands for Term Frequency, which represents the probability of occurrence of the word in a document.\n",
    "   - IDF gives us a measure of the importance of the word across the corpus (or the dataset). In other words, the words which occur rarely across different documents of the corpus are given higher importance."
   ]
  },
  {
   "cell_type": "code",
   "execution_count": 99,
   "metadata": {},
   "outputs": [
    {
     "name": "stdout",
     "output_type": "stream",
     "text": [
      "['abil', 'abl', 'absolut', 'absolut noth', 'across']\n"
     ]
    },
    {
     "name": "stderr",
     "output_type": "stream",
     "text": [
      "C:\\Users\\Summan Bahadur\\anaconda3\\lib\\site-packages\\sklearn\\utils\\deprecation.py:87: FutureWarning: Function get_feature_names is deprecated; get_feature_names is deprecated in 1.0 and will be removed in 1.2. Please use get_feature_names_out instead.\n",
      "  warnings.warn(msg, category=FutureWarning)\n"
     ]
    }
   ],
   "source": [
    "tv = TfidfVectorizer(\n",
    "                    ngram_range = (1,3), #(1,3)\n",
    "                    sublinear_tf = True,\n",
    "                    max_features = 4000)\n",
    "corpus = generate_corpus()\n",
    "\n",
    "X = tv.fit_transform(corpus)\n",
    "\n",
    "y = dataset.iloc[:, -1].values\n",
    "\n",
    "vocab = tv.get_feature_names()\n",
    "print(vocab[:5])"
   ]
  },
  {
   "cell_type": "code",
   "execution_count": 100,
   "metadata": {},
   "outputs": [
    {
     "name": "stdout",
     "output_type": "stream",
     "text": [
      "Vocabulary length: 4000\n"
     ]
    }
   ],
   "source": [
    "print(\"Vocabulary length:\", len(vocab))"
   ]
  },
  {
   "cell_type": "code",
   "execution_count": 101,
   "metadata": {},
   "outputs": [],
   "source": [
    "dist = np.sum(X, axis=0)\n",
    "c = pd.DataFrame(dist,columns = vocab)"
   ]
  },
  {
   "cell_type": "code",
   "execution_count": 102,
   "metadata": {},
   "outputs": [
    {
     "data": {
      "text/html": [
       "<div>\n",
       "<style scoped>\n",
       "    .dataframe tbody tr th:only-of-type {\n",
       "        vertical-align: middle;\n",
       "    }\n",
       "\n",
       "    .dataframe tbody tr th {\n",
       "        vertical-align: top;\n",
       "    }\n",
       "\n",
       "    .dataframe thead th {\n",
       "        text-align: right;\n",
       "    }\n",
       "</style>\n",
       "<table border=\"1\" class=\"dataframe\">\n",
       "  <thead>\n",
       "    <tr style=\"text-align: right;\">\n",
       "      <th></th>\n",
       "      <th>abil</th>\n",
       "      <th>abl</th>\n",
       "      <th>absolut</th>\n",
       "      <th>absolut noth</th>\n",
       "      <th>across</th>\n",
       "      <th>act</th>\n",
       "      <th>act like</th>\n",
       "      <th>action</th>\n",
       "      <th>action scene</th>\n",
       "      <th>action sequenc</th>\n",
       "      <th>...</th>\n",
       "      <th>yet settl</th>\n",
       "      <th>yet settl role</th>\n",
       "      <th>young</th>\n",
       "      <th>young nick</th>\n",
       "      <th>young nick furri</th>\n",
       "      <th>younger</th>\n",
       "      <th>younger version</th>\n",
       "      <th>younger version captain</th>\n",
       "      <th>younger version furi</th>\n",
       "      <th>youth</th>\n",
       "    </tr>\n",
       "  </thead>\n",
       "  <tbody>\n",
       "    <tr>\n",
       "      <th>0</th>\n",
       "      <td>0.12915</td>\n",
       "      <td>0.323778</td>\n",
       "      <td>1.489696</td>\n",
       "      <td>0.34754</td>\n",
       "      <td>0.500681</td>\n",
       "      <td>2.330142</td>\n",
       "      <td>0.473377</td>\n",
       "      <td>1.15125</td>\n",
       "      <td>0.253</td>\n",
       "      <td>0.237911</td>\n",
       "      <td>...</td>\n",
       "      <td>0.141242</td>\n",
       "      <td>0.141242</td>\n",
       "      <td>0.166683</td>\n",
       "      <td>0.166683</td>\n",
       "      <td>0.166683</td>\n",
       "      <td>0.187397</td>\n",
       "      <td>0.187397</td>\n",
       "      <td>0.114714</td>\n",
       "      <td>0.087339</td>\n",
       "      <td>0.141422</td>\n",
       "    </tr>\n",
       "  </tbody>\n",
       "</table>\n",
       "<p>1 rows × 4000 columns</p>\n",
       "</div>"
      ],
      "text/plain": [
       "      abil       abl   absolut  absolut noth    across       act  act like  \\\n",
       "0  0.12915  0.323778  1.489696       0.34754  0.500681  2.330142  0.473377   \n",
       "\n",
       "    action  action scene  action sequenc  ...  yet settl  yet settl role  \\\n",
       "0  1.15125         0.253        0.237911  ...   0.141242        0.141242   \n",
       "\n",
       "      young  young nick  young nick furri   younger  younger version  \\\n",
       "0  0.166683    0.166683          0.166683  0.187397         0.187397   \n",
       "\n",
       "   younger version captain  younger version furi     youth  \n",
       "0                 0.114714              0.087339  0.141422  \n",
       "\n",
       "[1 rows x 4000 columns]"
      ]
     },
     "execution_count": 102,
     "metadata": {},
     "output_type": "execute_result"
    }
   ],
   "source": [
    "c"
   ]
  },
  {
   "cell_type": "markdown",
   "metadata": {},
   "source": [
    "## Word Cloud"
   ]
  },
  {
   "cell_type": "code",
   "execution_count": 103,
   "metadata": {},
   "outputs": [],
   "source": [
    "from wordcloud import WordCloud, STOPWORDS\n",
    "import matplotlib.pyplot as plt\n",
    "import seaborn as sns\n",
    "from scipy import stats\n",
    "\n",
    "%matplotlib inline"
   ]
  },
  {
   "cell_type": "code",
   "execution_count": 104,
   "metadata": {},
   "outputs": [],
   "source": [
    "def cloud(data,backgroundcolor = 'white', width = 800, height = 600):\n",
    "    wordcloud = WordCloud(stopwords = STOPWORDS, background_color = backgroundcolor,\n",
    "                         width = width, height = height).generate(data)\n",
    "    plt.figure(figsize = (15, 10))\n",
    "    plt.imshow(wordcloud)\n",
    "    plt.axis(\"off\")\n",
    "    plt.show()"
   ]
  },
  {
   "cell_type": "code",
   "execution_count": 105,
   "metadata": {},
   "outputs": [
    {
     "data": {
      "image/png": "[encoded data removed]",
      "text/plain": [
       "<Figure size 1080x720 with 1 Axes>"
      ]
     },
     "metadata": {
      "needs_background": "light"
     },
     "output_type": "display_data"
    }
   ],
   "source": [
    "cloud(' '.join(corpus))"
   ]
  },
  {
   "cell_type": "markdown",
   "metadata": {},
   "source": [
    "## Information Reterival\n",
    "\n",
    "**Extracting Keywords Using TF-IDF**"
   ]
  },
  {
   "cell_type": "code",
   "execution_count": 106,
   "metadata": {},
   "outputs": [],
   "source": [
    "def sort_coo(coo_matrix):\n",
    "    \"\"\"Sort a dict with highest score\"\"\"\n",
    "    tuples = zip(coo_matrix.col, coo_matrix.data)\n",
    "    return sorted(tuples, key=lambda x: (x[1], x[0]), reverse=True)\n",
    "\n",
    "def extract_topn_from_vector(feature_names, sorted_items, topn=10):\n",
    "    \"\"\"get the feature names and tf-idf score of top n items\"\"\"\n",
    "    \n",
    "    #use only topn items from vector\n",
    "    sorted_items = sorted_items[:topn]\n",
    "\n",
    "    score_vals = []\n",
    "    feature_vals = []\n",
    "    \n",
    "    # word index and corresponding tf-idf score\n",
    "    for idx, score in sorted_items:\n",
    "        \n",
    "        #keep track of feature name and its corresponding score\n",
    "        score_vals.append(round(score, 3))\n",
    "        feature_vals.append(feature_names[idx])\n",
    "\n",
    "    #create a tuples of feature, score\n",
    "    results= {}\n",
    "    for idx in range(len(feature_vals)):\n",
    "        results[feature_vals[idx]]=score_vals[idx]\n",
    "    \n",
    "    return results"
   ]
  },
  {
   "cell_type": "code",
   "execution_count": 107,
   "metadata": {},
   "outputs": [],
   "source": [
    "def get_keywords(vectorizer, feature_names, doc):\n",
    "    \"\"\"Return top k keywords from a doc using TF-IDF method\"\"\"\n",
    "\n",
    "    #generate tf-idf for the given document\n",
    "    tf_idf_vector = vectorizer.transform([doc])\n",
    "    \n",
    "    #sort the tf-idf vectors by descending order of scores\n",
    "    sorted_items=sort_coo(tf_idf_vector.tocoo())\n",
    "\n",
    "    #extract only TOP_K_KEYWORDS\n",
    "    keywords=extract_topn_from_vector(feature_names,sorted_items,10) #TOP_K_KEYWORDS)\n",
    "    \n",
    "    return list(keywords.keys())"
   ]
  },
  {
   "cell_type": "code",
   "execution_count": 108,
   "metadata": {},
   "outputs": [
    {
     "name": "stderr",
     "output_type": "stream",
     "text": [
      "C:\\Users\\Summan Bahadur\\anaconda3\\lib\\site-packages\\sklearn\\utils\\deprecation.py:87: FutureWarning: Function get_feature_names is deprecated; get_feature_names is deprecated in 1.0 and will be removed in 1.2. Please use get_feature_names_out instead.\n",
      "  warnings.warn(msg, category=FutureWarning)\n"
     ]
    }
   ],
   "source": [
    "#load a set of stop words\n",
    "#stopwords=get_stopwords_list(STOPWORD_PATH)\n",
    "\n",
    "# Initializing TF-IDF Vectorizer with stopwords\n",
    "vectorizer = TfidfVectorizer(stop_words=all_stopwords, smooth_idf=True, use_idf=True)\n",
    "\n",
    "# Creating vocab with our corpora\n",
    "# Exlcluding first 10 docs for testing purpose\n",
    "vectorizer.fit_transform(corpus[10::])\n",
    "\n",
    "# Storing vocab\n",
    "feature_names = vectorizer.get_feature_names()"
   ]
  },
  {
   "cell_type": "code",
   "execution_count": 109,
   "metadata": {},
   "outputs": [
    {
     "data": {
      "text/html": [
       "<div>\n",
       "<style scoped>\n",
       "    .dataframe tbody tr th:only-of-type {\n",
       "        vertical-align: middle;\n",
       "    }\n",
       "\n",
       "    .dataframe tbody tr th {\n",
       "        vertical-align: top;\n",
       "    }\n",
       "\n",
       "    .dataframe thead th {\n",
       "        text-align: right;\n",
       "    }\n",
       "</style>\n",
       "<table border=\"1\" class=\"dataframe\">\n",
       "  <thead>\n",
       "    <tr style=\"text-align: right;\">\n",
       "      <th></th>\n",
       "      <th>full_text</th>\n",
       "      <th>top_keywords</th>\n",
       "    </tr>\n",
       "  </thead>\n",
       "  <tbody>\n",
       "    <tr>\n",
       "      <th>0</th>\n",
       "      <td>total awesom mcu entri clever hilari surpris great origin stori import charact make look question assumpt default bias understand low score sound like someth besid movi plot drive see movi incred</td>\n",
       "      <td>[total, low, clever, score, hilari, besid, awesom, surpris, import, understand]</td>\n",
       "    </tr>\n",
       "    <tr>\n",
       "      <th>1</th>\n",
       "      <td>wooow baaad movi worst lead charact entir marvel univers</td>\n",
       "      <td>[entir, univers, lead, worst, charact, marvel, movi]</td>\n",
       "    </tr>\n",
       "    <tr>\n",
       "      <th>2</th>\n",
       "      <td>unmemor movi littl top gun green lantern said worst littl marvel magic protagonist mono dimension know cool good fun charact say never act cool fun anyth els big shame</td>\n",
       "      <td>[cool, littl, fun, shame, top, dimension, say, protagonist, big, anyth]</td>\n",
       "    </tr>\n",
       "    <tr>\n",
       "      <th>3</th>\n",
       "      <td>asid woodenactor world cgi laughabl time</td>\n",
       "      <td>[world, cgi, time]</td>\n",
       "    </tr>\n",
       "    <tr>\n",
       "      <th>4</th>\n",
       "      <td>brie larson put much obtus person film</td>\n",
       "      <td>[person, put, much, film, brie, larson]</td>\n",
       "    </tr>\n",
       "    <tr>\n",
       "      <th>5</th>\n",
       "      <td>ye know anti cpt marvel diatrib origin marvel comic fan found enjoy bit much today commentari societi enjoy film</td>\n",
       "      <td>[enjoy, cpt, found, fan, comic, bit, marvel, know, origin, much]</td>\n",
       "    </tr>\n",
       "    <tr>\n",
       "      <th>6</th>\n",
       "      <td>movi good origin stori charact mcu brie deliv good solid carol denver militari manner background strong woman would particularli differ way gain power ok univers bruce banner shoot gama radiat hole kree nuclea good love jude law love gemma chan like way led nick furi core expect seriou samuel l jackson first phase noth destroy movi</td>\n",
       "      <td>[way, good, love, seriou, phase, ok, law, gain, expect, background]</td>\n",
       "    </tr>\n",
       "    <tr>\n",
       "      <th>7</th>\n",
       "      <td>wow tri watch expect rough expect bad lol</td>\n",
       "      <td>[expect, rough, lol, wow, tri, bad, watch]</td>\n",
       "    </tr>\n",
       "    <tr>\n",
       "      <th>8</th>\n",
       "      <td>plot weak not huge fan movi realli want like marvel flop first attempt okay pleas marvel give us good movi next time</td>\n",
       "      <td>[weak, pleas, next, huge, attempt, us, fan, give, want, marvel]</td>\n",
       "    </tr>\n",
       "    <tr>\n",
       "      <th>9</th>\n",
       "      <td>not worst mcu movi anywher close fun enjoy marvel movi plot move slowli predict brie larson act write charact end make bore dislik charact littl charact develop hand samuel l jackson nick furi screen carri show side charact made movi somewhat better hate one scene nick furi cat not go spoil movi come could done lot better one reason movi work tri mani thing stick land</td>\n",
       "      <td>[charact, movi, nick, furi, better, side, move, carri, not, one]</td>\n",
       "    </tr>\n",
       "  </tbody>\n",
       "</table>\n",
       "</div>"
      ],
      "text/plain": [
       "                                                                                                                                                                                                                                                                                                                                                                            full_text  \\\n",
       "0                                                                                                                                                                                 total awesom mcu entri clever hilari surpris great origin stori import charact make look question assumpt default bias understand low score sound like someth besid movi plot drive see movi incred   \n",
       "1                                                                                                                                                                                                                                                                                                                            wooow baaad movi worst lead charact entir marvel univers   \n",
       "2                                                                                                                                                                                                             unmemor movi littl top gun green lantern said worst littl marvel magic protagonist mono dimension know cool good fun charact say never act cool fun anyth els big shame   \n",
       "3                                                                                                                                                                                                                                                                                                                                            asid woodenactor world cgi laughabl time   \n",
       "4                                                                                                                                                                                                                                                                                                                                              brie larson put much obtus person film   \n",
       "5                                                                                                                                                                                                                                                                    ye know anti cpt marvel diatrib origin marvel comic fan found enjoy bit much today commentari societi enjoy film   \n",
       "6                                       movi good origin stori charact mcu brie deliv good solid carol denver militari manner background strong woman would particularli differ way gain power ok univers bruce banner shoot gama radiat hole kree nuclea good love jude law love gemma chan like way led nick furi core expect seriou samuel l jackson first phase noth destroy movi   \n",
       "7                                                                                                                                                                                                                                                                                                                                           wow tri watch expect rough expect bad lol   \n",
       "8                                                                                                                                                                                                                                                                plot weak not huge fan movi realli want like marvel flop first attempt okay pleas marvel give us good movi next time   \n",
       "9  not worst mcu movi anywher close fun enjoy marvel movi plot move slowli predict brie larson act write charact end make bore dislik charact littl charact develop hand samuel l jackson nick furi screen carri show side charact made movi somewhat better hate one scene nick furi cat not go spoil movi come could done lot better one reason movi work tri mani thing stick land   \n",
       "\n",
       "                                                                      top_keywords  \n",
       "0  [total, low, clever, score, hilari, besid, awesom, surpris, import, understand]  \n",
       "1                             [entir, univers, lead, worst, charact, marvel, movi]  \n",
       "2          [cool, littl, fun, shame, top, dimension, say, protagonist, big, anyth]  \n",
       "3                                                               [world, cgi, time]  \n",
       "4                                          [person, put, much, film, brie, larson]  \n",
       "5                 [enjoy, cpt, found, fan, comic, bit, marvel, know, origin, much]  \n",
       "6              [way, good, love, seriou, phase, ok, law, gain, expect, background]  \n",
       "7                                       [expect, rough, lol, wow, tri, bad, watch]  \n",
       "8                  [weak, pleas, next, huge, attempt, us, fan, give, want, marvel]  \n",
       "9                 [charact, movi, nick, furi, better, side, move, carri, not, one]  "
      ]
     },
     "execution_count": 109,
     "metadata": {},
     "output_type": "execute_result"
    }
   ],
   "source": [
    "result = []\n",
    "for doc in corpus[0:10]:\n",
    "    df = {}\n",
    "    df['full_text'] = doc\n",
    "    df['top_keywords'] = get_keywords(vectorizer, feature_names, doc)\n",
    "    result.append(df)\n",
    "    \n",
    "final = pd.DataFrame(result)\n",
    "final"
   ]
  },
  {
   "cell_type": "markdown",
   "metadata": {},
   "source": [
    "# Model Fitting"
   ]
  },
  {
   "cell_type": "markdown",
   "metadata": {},
   "source": [
    "### TF-IDF - Random Forest"
   ]
  },
  {
   "cell_type": "code",
   "execution_count": 110,
   "metadata": {},
   "outputs": [
    {
     "name": "stdout",
     "output_type": "stream",
     "text": [
      "[[ 0 17]\n",
      " [ 0 23]]\n"
     ]
    },
    {
     "data": {
      "text/plain": [
       "0.575"
      ]
     },
     "execution_count": 110,
     "metadata": {},
     "output_type": "execute_result"
    }
   ],
   "source": [
    "#Random Forest\n",
    "from sklearn.ensemble import RandomForestClassifier\n",
    "text_classifier = RandomForestClassifier(n_estimators=100, random_state=0)  \n",
    "text_classifier.fit(X_train, y_train)\n",
    "\n",
    "y_pred = classifier.predict(X_test)\n",
    "cm = confusion_matrix(y_test, y_pred)\n",
    "print(cm)\n",
    "\n",
    "accuracy_score(y_test, y_pred)"
   ]
  },
  {
   "cell_type": "markdown",
   "metadata": {},
   "source": [
    "### TF-IDF -Naive Bayes"
   ]
  },
  {
   "cell_type": "code",
   "execution_count": 111,
   "metadata": {},
   "outputs": [
    {
     "name": "stdout",
     "output_type": "stream",
     "text": [
      "[[16  1]\n",
      " [18  5]]\n"
     ]
    },
    {
     "data": {
      "text/plain": [
       "0.525"
      ]
     },
     "execution_count": 111,
     "metadata": {},
     "output_type": "execute_result"
    }
   ],
   "source": [
    "classifier = GaussianNB()\n",
    "classifier.fit(X_train, y_train)\n",
    "\n",
    "y_pred = classifier.predict(X_test)\n",
    "cm = confusion_matrix(y_test, y_pred)\n",
    "print(cm)\n",
    "\n",
    "accuracy_score(y_test, y_pred)"
   ]
  },
  {
   "cell_type": "markdown",
   "metadata": {},
   "source": [
    "### TF-IDF - SVM"
   ]
  },
  {
   "cell_type": "code",
   "execution_count": 112,
   "metadata": {},
   "outputs": [
    {
     "name": "stdout",
     "output_type": "stream",
     "text": [
      "[[ 0 17]\n",
      " [ 0 23]]\n"
     ]
    },
    {
     "data": {
      "text/plain": [
       "0.575"
      ]
     },
     "execution_count": 112,
     "metadata": {},
     "output_type": "execute_result"
    }
   ],
   "source": [
    "classifier = SVC(kernel='linear')\n",
    "classifier.fit(X_train, y_train)\n",
    "y_pred = classifier.predict(X_test)\n",
    "\n",
    "cm = confusion_matrix(y_test, y_pred)\n",
    "print(cm)\n",
    "\n",
    "accuracy_score(y_test, y_pred)"
   ]
  },
  {
   "cell_type": "markdown",
   "metadata": {},
   "source": [
    "# Summary\n",
    "\n",
    " - TF-IDF cannot help carry semantic meaning. It considers the importance of the words due to how it weighs them, but it cannot necessarily derive the contexts of the words and understand importance that way.\n",
    "\n",
    " - TF-IDF can be used for extracting information about what people are mostly talking about\n",
    "\n",
    "----\n"
   ]
  },
  {
   "cell_type": "markdown",
   "metadata": {},
   "source": [
    "# Word To Vector\n",
    "\n",
    "**A key differences between TF-IDF and word2vec is that TF-IDF is a statistical measure that we can apply to terms in a document and then use that to form a vector whereas word2vec will produce a vector for a term and then more work may need to be done to convert that set of vectors into a singular vector or other format. Additionally TF-IDF does not take into consideration the context of the words in the corpus whereas word2vec does.**"
   ]
  },
  {
   "cell_type": "code",
   "execution_count": null,
   "metadata": {},
   "outputs": [],
   "source": []
  },
  {
   "cell_type": "code",
   "execution_count": null,
   "metadata": {},
   "outputs": [],
   "source": []
  }
 ],
 "metadata": {
  "colab": {
   "authorship_tag": "ABX9TyM0alc4CzSWvBWV1N8dU5Xs",
   "collapsed_sections": [],
   "name": "b1_Sentiment_Analysis_Model.ipynb",
   "provenance": [],
   "toc_visible": true
  },
  "kernelspec": {
   "display_name": "Python 3 (ipykernel)",
   "language": "python",
   "name": "python3"
  },
  "language_info": {
   "codemirror_mode": {
    "name": "ipython",
    "version": 3
   },
   "file_extension": ".py",
   "mimetype": "text/x-python",
   "name": "python",
   "nbconvert_exporter": "python",
   "pygments_lexer": "ipython3",
   "version": "3.9.12"
  },
  "vscode": {
   "interpreter": {
    "hash": "905ed832d2f4288efef86a21e0f4658ce21fbf9a00a690c2ed28e662bd4105c3"
   }
  }
 },
 "nbformat": 4,
 "nbformat_minor": 1
}
